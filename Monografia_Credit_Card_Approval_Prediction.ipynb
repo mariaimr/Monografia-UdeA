{
  "nbformat": 4,
  "nbformat_minor": 0,
  "metadata": {
    "colab": {
      "provenance": [],
      "collapsed_sections": [
        "1R6sS8eGaV66",
        "fthCER7VaV68",
        "DQN_ApdxQpzP",
        "Ab2AArelRxMJ",
        "akrt7CZpSwKB"
      ],
      "toc_visible": true,
      "include_colab_link": true
    },
    "kernelspec": {
      "name": "python3",
      "display_name": "Python 3"
    },
    "language_info": {
      "name": "python"
    }
  },
  "cells": [
    {
      "cell_type": "markdown",
      "metadata": {
        "id": "view-in-github",
        "colab_type": "text"
      },
      "source": [
        "<a href=\"https://colab.research.google.com/github/mariaimr/Monografia-UdeA/blob/first_results/Monografia_Credit_Card_Approval_Prediction.ipynb\" target=\"_parent\"><img src=\"https://colab.research.google.com/assets/colab-badge.svg\" alt=\"Open In Colab\"/></a>"
      ]
    },
    {
      "cell_type": "code",
      "source": [
        "!wget --no-cache -O init.py -q https://raw.githubusercontent.com/UDEA-Esp-Analitica-y-Ciencia-de-Datos/EACD-02-ESTADISTICA/master/init.py\n",
        "import init; init.init(force_download=False); \n",
        "from IPython.display import Image\n",
        "\n",
        "Image(\"local/imgs/udea-datascience.png\")"
      ],
      "metadata": {
        "id": "cGoHlyv6frkG",
        "colab": {
          "base_uri": "https://localhost:8080/",
          "height": 268
        },
        "outputId": "bd108b18-c854-4d7a-cb25-cf38f96cb6f2"
      },
      "execution_count": 1,
      "outputs": [
        {
          "output_type": "stream",
          "name": "stdout",
          "text": [
            "replicating local resources\n"
          ]
        },
        {
          "output_type": "execute_result",
          "data": {
            "image/png": "[encoded data removed]",
            "text/plain": [
              "<IPython.core.display.Image object>"
            ]
          },
          "metadata": {},
          "execution_count": 1
        }
      ]
    },
    {
      "cell_type": "markdown",
      "source": [
        "**Materia:** Aprendizaje Automático I\n",
        "\n",
        "**Departamento:** Especialización en Analítica y Ciencia de Datos - Posgrados en Ingeniería\n",
        "\n",
        "**Facultad de Ingeniería - Universidad de Antioquia**"
      ],
      "metadata": {
        "id": "FXUDPYr4zYDf"
      }
    },
    {
      "cell_type": "markdown",
      "source": [
        "*   **Nombres Completos**: Maria Isabel Martínez Rendón\n",
        "*   **Número de Cédula**: 1046912393\n",
        "\n",
        "\n",
        "*   **Nombres Completos**: Santiago Felipe Rosales Guerrero\n",
        "*   **Número de Cédula**: 1085334424"
      ],
      "metadata": {
        "id": "s9b-U6DOBUKT"
      }
    },
    {
      "cell_type": "markdown",
      "metadata": {
        "id": "1R6sS8eGaV66"
      },
      "source": [
        "## Librerías y configuraciones previas\n"
      ]
    },
    {
      "cell_type": "code",
      "execution_count": 2,
      "metadata": {
        "id": "XY2FcjwiaV66"
      },
      "outputs": [],
      "source": [
        "# Tratamiento de datos\n",
        "# ==============================================================================\n",
        "import pandas as pd\n",
        "import numpy as np\n",
        "\n",
        "# Gráficos\n",
        "# ==============================================================================\n",
        "import matplotlib.pyplot as plt\n",
        "from matplotlib import style\n",
        "import seaborn as sns\n",
        "import math\n",
        "\n",
        "# Preprocesado y modelado\n",
        "# ==============================================================================\n",
        "from scipy.stats import pearsonr\n",
        "from scipy import stats\n",
        "from sklearn.model_selection import train_test_split\n",
        "import multiprocessing\n",
        "\n",
        "from sklearn import metrics\n",
        "from sklearn.metrics import r2_score\n",
        "from sklearn.metrics import roc_auc_score\n",
        "from sklearn.metrics import roc_curve\n",
        "from sklearn.metrics import mean_squared_error\n",
        "from sklearn.metrics import mean_absolute_error\n",
        "from sklearn.metrics import median_absolute_error\n",
        "from sklearn.metrics import accuracy_score\n",
        "from sklearn.metrics import confusion_matrix\n",
        "from sklearn.tree import DecisionTreeClassifier\n",
        "from sklearn.tree import plot_tree\n",
        "from scipy import special\n",
        "from sklearn.ensemble import RandomForestRegressor\n",
        "from sklearn.model_selection import cross_val_score\n",
        "from sklearn.model_selection import RepeatedKFold\n",
        "from sklearn.model_selection import GridSearchCV\n",
        "from sklearn.model_selection import ParameterGrid\n",
        "from sklearn.linear_model import LogisticRegression\n",
        "from sklearn.naive_bayes import GaussianNB\n",
        "from sklearn.naive_bayes import BernoulliNB\n",
        "from sklearn.naive_bayes import MultinomialNB\n",
        "from sklearn.naive_bayes import ComplementNB\n",
        "from sklearn.neighbors import KNeighborsClassifier\n",
        "from sklearn.ensemble import AdaBoostClassifier\n",
        "from sklearn.ensemble import GradientBoostingClassifier\n",
        "from sklearn.datasets import make_classification\n",
        "from sklearn.metrics import classification_report\n",
        "from imblearn.over_sampling import RandomOverSampler \n",
        "from sklearn.feature_selection import chi2, f_classif, mutual_info_classif\n",
        "from sklearn.metrics import balanced_accuracy_score\n",
        "from sklearn.metrics import precision_recall_curve\n",
        "from sklearn.metrics import PrecisionRecallDisplay\n",
        "from sklearn.metrics import log_loss\n",
        "from collections import Counter\n",
        "import statsmodels.api as sm\n",
        "\n",
        "\n",
        "\n",
        "#support vector machine\n",
        "from sklearn.svm import SVR\n",
        "\n",
        "#Escalar Variables\n",
        "from sklearn.preprocessing import MinMaxScaler\n",
        "\n",
        "\n",
        "# ==============================================================================\n",
        "#mejores parametros\n",
        "from sklearn.model_selection import train_test_split\n",
        "from sklearn.model_selection import GridSearchCV\n",
        "\n",
        "# Configuración matplotlib\n",
        "# ==============================================================================\n",
        "plt.rcParams['image.cmap'] = \"bwr\"\n",
        "#plt.rcParams['figure.dpi'] = \"100\"\n",
        "plt.rcParams['savefig.bbox'] = \"tight\"\n",
        "style.use('ggplot') or plt.style.use('ggplot')\n",
        "\n",
        "# Librerias para sobremuestreo\n",
        "# ==============================================================================\n",
        "from collections import Counter\n",
        "from imblearn.over_sampling import SMOTE\n",
        "from imblearn.over_sampling import SMOTENC\n",
        "from imblearn.over_sampling import SMOTEN\n",
        "from imblearn.over_sampling import SVMSMOTE\n",
        "from imblearn.over_sampling import BorderlineSMOTE\n",
        "from imblearn.over_sampling import RandomOverSampler\n",
        "from imblearn.over_sampling import KMeansSMOTE\n",
        "from sklearn.cluster import MiniBatchKMeans\n",
        "\n",
        "# Configuración warnings\n",
        "# ==============================================================================\n",
        "import warnings\n",
        "warnings.filterwarnings('ignore')\n",
        "#para procesar atípicos\n",
        "from sklearn.neighbors import LocalOutlierFactor # Algoritmo LOF"
      ]
    },
    {
      "cell_type": "code",
      "source": [
        "import warnings\n",
        "warnings.filterwarnings('ignore')"
      ],
      "metadata": {
        "id": "3-gM4R0rp1n9"
      },
      "execution_count": 3,
      "outputs": []
    },
    {
      "cell_type": "code",
      "source": [
        "from google.colab import drive\n",
        "import os\n",
        "drive.mount('/content/drive/')\n",
        "#kaggle_monografia"
      ],
      "metadata": {
        "id": "N-TEUe75AsUm"
      },
      "execution_count": null,
      "outputs": []
    },
    {
      "cell_type": "markdown",
      "metadata": {
        "id": "fthCER7VaV68"
      },
      "source": [
        "##Funciones"
      ]
    },
    {
      "cell_type": "code",
      "source": [
        "# Función para graficar un plot con multiples gráficas del mismo tipo:\n",
        "#\n",
        "# df       : dataframe \n",
        "# cols     : lista de columnas a graficar\n",
        "# num_cols : número de columnas \n",
        "# num_rows : número de filas\n",
        "# tipo     : 'c' = countplot,   'b' = boxplot, 's' = scatterplot \n",
        "# targetVar: nombre de la variable comparativa de salida. Debe ser numérica y debe estar cotenida en el dataframe. \n",
        "#            Para countplot no es necesario (None)\n",
        "# figsize  : tamaño del plot. Valor por defecto (16,8)\n",
        "#\n",
        "# *Nota: el número de filas * el número de columnas debe ser mayor al total de elementos de cols\n",
        "#\n",
        "# Ejemplos:     \n",
        "#    plot_multiples_graficas (d, catCols, 5, 3, 'c', None, (16,12))\n",
        "#    plot_multiples_graficas (d, numCols, 5, 3, 's', 'price', (16,12))\n",
        "#    plot_multiples_graficas (d, ['make'], 1, 1, 'b', 'price', (16,12))\n",
        "# ==============================================================================\n",
        "\n",
        "\n",
        "def plot_multiples_graficas(df, cols, num_cols, num_rows, tipo, targetVar, figsize=(16,8)):\n",
        "    \n",
        "    plt.rcParams['figure.figsize'] = figsize\n",
        "    \n",
        "    #num_plots = len(cols)\n",
        "    #num_cols = math.ceil(np.sqrt(num_plots))\n",
        "    #num_rows = math.ceil(num_plots/num_cols)\n",
        "        \n",
        "    fig, axs = plt.subplots(num_rows, num_cols)\n",
        "    \n",
        "    for ind, col in enumerate(cols):\n",
        "        i = math.floor(ind/num_cols)\n",
        "        j = ind - i*num_cols\n",
        "        \n",
        "        if num_rows == 1:\n",
        "            if num_cols == 1:\n",
        "                if tipo == 'c': \n",
        "                    sns.countplot(x=df[col], ax=axs, dodge = False)\n",
        "                if tipo == 'b':\n",
        "                    sns.boxplot(x=df[col], y=df[targetVar], ax=axs)\n",
        "                if tipo == 's':\n",
        "                    sns.scatterplot(x=df[col], y=df[targetVar], ax=axs)\n",
        "            else:\n",
        "                if tipo == 'c':\n",
        "                    sns.countplot(x=df[col], ax=axs[j], dodge = False)\n",
        "                if tipo == 'b':\n",
        "                    sns.boxplot(x=df[col], y=df[targetVar], ax=axs[j])\n",
        "                if tipo == 's':\n",
        "                    sns.scatterplot(x=df[col], y=df[targetVar], ax=axs[j])\n",
        "        else:\n",
        "            if num_cols == 1:\n",
        "                if tipo == 'c':\n",
        "                    sns.countplot(x=d[col], ax=axs[i], dodge = False)\n",
        "                if tipo == 'b':\n",
        "                    sns.boxplot(x=df[col], y=df[targetVar], ax=axs[i])\n",
        "                if tipo == 's':\n",
        "                    sns.scatterplot(x=df[col], y=df[targetVar], ax=axs[i])\n",
        "            else:\n",
        "                if tipo == 'c':\n",
        "                    sns.countplot(x=df[col], ax=axs[i, j], dodge = False)\n",
        "                if tipo == 'b':\n",
        "                    sns.boxplot(x=df[col], y=df[targetVar], ax=axs[i, j])\n",
        "                if tipo == 's':\n",
        "                    sns.scatterplot(x=df[col], y=df[targetVar], ax=axs[i, j])"
      ],
      "metadata": {
        "id": "DSrnZEjTbIdL"
      },
      "execution_count": null,
      "outputs": []
    },
    {
      "cell_type": "code",
      "source": [
        "# Función para contruir un modelo de regresión lineal por medio de statsmodels.api\n",
        "\n",
        "def build_model(X,y):\n",
        "    X = sm.add_constant(X) #Adding the constant\n",
        "    lm = sm.OLS(y,X).fit() # fitting the model\n",
        "    print(lm.summary()) # model summary\n",
        "    return X"
      ],
      "metadata": {
        "id": "sHF4cCU7hC_0"
      },
      "execution_count": null,
      "outputs": []
    },
    {
      "cell_type": "code",
      "execution_count": null,
      "metadata": {
        "id": "n2vnc-ARR_fQ"
      },
      "outputs": [],
      "source": [
        "def plot_roc_curve(fpr, tpr):\n",
        "    plt.plot(fpr, tpr, color='orange', label='ROC')\n",
        "    plt.plot([0, 1], [0, 1], color='darkblue', linestyle='--')\n",
        "    plt.xlabel('False Positive Rate')\n",
        "    plt.ylabel('True Positive Rate')\n",
        "    plt.title('Receiver Operating Characteristic (ROC) Curve')\n",
        "    plt.legend()\n",
        "    plt.show()"
      ]
    },
    {
      "cell_type": "markdown",
      "source": [
        "#Credit Card Approval Prediction\n"
      ],
      "metadata": {
        "id": "ujhe7zRz01EN"
      }
    },
    {
      "cell_type": "markdown",
      "source": [
        "## 1. Descripción de la base de datos"
      ],
      "metadata": {
        "id": "DQN_ApdxQpzP"
      }
    },
    {
      "cell_type": "markdown",
      "source": [
        "**Contexto**\n",
        "\n",
        "Las tarjetas de crédito son un método de control de riesgos habitual en el sector financiero. Utiliza la información personal y los datos presentados por los solicitantes de tarjetas de crédito para predecir la probabilidad de que se produzcan futuros impagos y se obtengan préstamos de tarjetas de crédito. El banco puede decidir si emite una tarjeta de crédito al solicitante. Las puntuaciones de crédito pueden cuantificar objetivamente la magnitud del riesgo.\n",
        " \n",
        "En general, las tarjetas de puntuación de crédito se basan en datos históricos. Una vez que se encuentran con grandes fluctuaciones económicas. Los modelos anteriores pueden perder su poder predictivo original. El modelo logístico es un método común para la puntuación de crédito. Porque Logistic es adecuado para tareas de clasificación binaria y puede calcular los coeficientes de cada característica. Para facilitar la comprensión y el funcionamiento, la tarjeta de puntuación multiplicará el coeficiente de regresión logística por un valor determinado (como 100) y lo redondeará.\n",
        " \n",
        "En la actualidad, con el desarrollo de los algoritmos de aprendizaje automático. Se han introducido en la puntuación de las tarjetas de crédito más métodos de predicción, como Boosting, Random Forest y Support Vector Machines. Sin embargo, estos métodos no suelen tener una buena transparencia. Puede ser difícil proporcionar a los clientes y a los reguladores una razón para el rechazo o la aceptación.\n",
        "\n",
        "**Información de atributos**\n",
        "\n",
        "Base de datos 1 - **application_record:** contiene la información personal de los solicitantes y cuenta con 438.557 registros\n",
        "\n",
        "**ID (int):** Número de cliente\n",
        "\n",
        "**CODE_GENDER (object):** Género\n",
        "\n",
        "**FLAG_OWN_CAR (object):** Tiene carro?\n",
        "\n",
        "**FLAG_OWN_REALTY (object):** Tiene propiedad?\n",
        "\n",
        "**CNT_CHILDREN (int):** Número de hijos\n",
        "\n",
        "**AMT_INCOME_TOTAL (float):** Ingresos anuales\n",
        "\n",
        "**NAME_INCOME_TYPE (object):** Categoría de ingresos\n",
        "\n",
        "**NAME_EDUCATION_TYPE (object):** Nivel de educación\n",
        "\n",
        "**NAME_FAMILY_STATUS (object):** Estado civil \n",
        "\n",
        "**NAME_HOUSING_TYPE (object):** Forma de vivir\n",
        "\n",
        "**DAYS_BIRTH (int):** Cumpleaños Cuenta hacia atrás desde el día actual (0), -1 significa ayer\n",
        "\n",
        "**DAYS_EMPLOYED (int):** Fecha de inicio del empleo Contar hacia atrás desde el día actual (0). Si es positivo, significa que la persona está actualmente desempleada.\n",
        "\n",
        "**FLAG_MOBIL (int):** Tiene teléfono celular?\n",
        "\n",
        "**FLAG_WORK_PHONE (int):** Tiene teléfono de trabajo?\n",
        "\n",
        "**FLAG_PHONE (int):** Tiene teléfono?\n",
        "\n",
        "**FLAG_EMAIL (int):** Tiene correo electrónico?\n",
        "\n",
        "**OCCUPATION_TYPE (object):** Ocupación\n",
        "\n",
        "**CNT_FAM_MEMBERS (float):** Tamaño de familia\n",
        "\n",
        "La columna “OCCUPATION_TYPE” tiene 134.000 registros faltantes.\n",
        "\n",
        "Base de datos 2 - **credit_record:** registra los comportamientos de los usuarios de la tarjeta de crédito y cuenta con 1.048.575 registros.\n",
        "\n",
        "**ID (int):** Número de cliente\n",
        "\n",
        "**MONTHS_BALANCE (int):** Mes de registro. El mes de los datos extraídos es el punto de partida, 0 es el mes actual, -1 es el mes anterior, y así sucesivamente\n",
        "\n",
        "**STATUS (object):** Estado.  0: 1-29 días de atraso , 1: 30-59 días de atraso, 2: 60-89 días de atraso, 3: 90-119 días de atraso, 4: 120-149 días de atraso, 5: Deudas atrasadas o incobrables, canceladas por más de 150 días, C: cancelado ese mes, X: Sin préstamo en el mes"
      ],
      "metadata": {
        "id": "-HQY5-cMQpzQ"
      }
    },
    {
      "cell_type": "markdown",
      "metadata": {
        "id": "Ab2AArelRxMJ"
      },
      "source": [
        "## 2. Carga del dataset"
      ]
    },
    {
      "cell_type": "code",
      "source": [
        "os.environ['KAGGLE_CONFIG_DIR'] = '/content/drive/MyDrive/' + input('Input the directory with your Kaggle json file: ') #Dejar input vacío en caso de que se encuentre en la raíz de Drive\n",
        "!kaggle datasets download -d rikdifos/credit-card-approval-prediction\n",
        "!unzip \\*.zip && rm *.zip"
      ],
      "metadata": {
        "id": "mhKMu1tNRxMK"
      },
      "execution_count": null,
      "outputs": []
    },
    {
      "cell_type": "code",
      "source": [
        "banco_credit_record= pd.read_csv('credit_record.csv')\n",
        "banco_appli_record= pd.read_csv('application_record.csv')"
      ],
      "metadata": {
        "id": "-SpyCMSZFkO6"
      },
      "execution_count": null,
      "outputs": []
    },
    {
      "cell_type": "markdown",
      "source": [
        "## 3. Exploración del dataset"
      ],
      "metadata": {
        "id": "akrt7CZpSwKB"
      }
    },
    {
      "cell_type": "markdown",
      "source": [
        "**Dataset con información crediticia**"
      ],
      "metadata": {
        "id": "58VMK4EQTBIy"
      }
    },
    {
      "cell_type": "code",
      "source": [
        "banco_credit_record.head()"
      ],
      "metadata": {
        "id": "541BOyk8TK5c"
      },
      "execution_count": null,
      "outputs": []
    },
    {
      "cell_type": "code",
      "source": [
        "banco_credit_record.info()"
      ],
      "metadata": {
        "id": "RfFcBThWTV5u"
      },
      "execution_count": null,
      "outputs": []
    },
    {
      "cell_type": "markdown",
      "source": [
        "Se grafican los diferentes registros de la variable STATUS dado que será procesada para usarse como variable de salida en este ejercico."
      ],
      "metadata": {
        "id": "8tu-ZXHgTcds"
      }
    },
    {
      "cell_type": "code",
      "source": [
        "plt.hist(banco_credit_record[\"STATUS\"])\n",
        "plt.show()"
      ],
      "metadata": {
        "id": "qRyACg38TNNn"
      },
      "execution_count": null,
      "outputs": []
    },
    {
      "cell_type": "code",
      "source": [
        "#Cantidad de registros por estado\n",
        "print(\"Cantidad de registros por estado:\")\n",
        "banco_credit_record[\"STATUS\"].value_counts()"
      ],
      "metadata": {
        "id": "87s7DOiDrTBS"
      },
      "execution_count": null,
      "outputs": []
    },
    {
      "cell_type": "markdown",
      "source": [
        "Descripción de las categorías de la variable STATUS\n",
        "\n",
        "0: 1-29 días de atraso\n",
        "\n",
        "1: 30-59 días de atraso\n",
        "\n",
        "2: 60-89 días de atraso\n",
        "\n",
        "3: 90-119 días de atraso\n",
        "\n",
        "4: 120-149 días de atraso\n",
        "\n",
        "5: Deudas atrasadas o incobrables, canceladas por más de 150 días\n",
        "\n",
        "C: cancelado ese mes\n",
        "\n",
        "X: Sin préstamo en el mes\n",
        "\n"
      ],
      "metadata": {
        "id": "w9SqF774TJk_"
      }
    },
    {
      "cell_type": "markdown",
      "source": [
        "**Dataset con información personal de los solicitantes**"
      ],
      "metadata": {
        "id": "bcxqCmM8UMqd"
      }
    },
    {
      "cell_type": "code",
      "source": [
        "banco_appli_record.head()"
      ],
      "metadata": {
        "id": "MD0uxiLzUYe0"
      },
      "execution_count": null,
      "outputs": []
    },
    {
      "cell_type": "code",
      "source": [
        "banco_appli_record.info()"
      ],
      "metadata": {
        "id": "hzrtRZ6ZUdKd"
      },
      "execution_count": null,
      "outputs": []
    },
    {
      "cell_type": "markdown",
      "source": [
        "Se buscan registros duplicados y nulos."
      ],
      "metadata": {
        "id": "_Y7ZYe9dV9YG"
      }
    },
    {
      "cell_type": "code",
      "source": [
        "print(f\"Cantidad de registros duplicados: {banco_appli_record.duplicated().sum()}\")"
      ],
      "metadata": {
        "id": "77p4MO8cV9YH"
      },
      "execution_count": null,
      "outputs": []
    },
    {
      "cell_type": "code",
      "source": [
        "print(f\"Cantidad de registros nulos:\\n\\n{banco_appli_record.isnull().sum()}\")"
      ],
      "metadata": {
        "id": "meYGCMboV9YI"
      },
      "execution_count": null,
      "outputs": []
    },
    {
      "cell_type": "markdown",
      "source": [
        "Exploración de caracteres especiales por cada una de las variables"
      ],
      "metadata": {
        "id": "YS4s2rulWIvn"
      }
    },
    {
      "cell_type": "code",
      "source": [
        "lista_banco=[]\n",
        "for i in banco_appli_record.columns[1:]:\n",
        "  lista_banco.append({i:list(banco_appli_record[i].value_counts().index)})\n",
        "display([lista_banco])"
      ],
      "metadata": {
        "id": "ddC7Bsn8WRbm"
      },
      "execution_count": null,
      "outputs": []
    },
    {
      "cell_type": "markdown",
      "source": [
        "Se analiza si en la variable DAYS_BIRTH hay presencia de datos atípicos o extraños"
      ],
      "metadata": {
        "id": "oIxSNYWQWjvL"
      }
    },
    {
      "cell_type": "code",
      "source": [
        "print(f\" Edad máxima: {round((banco_appli_record['DAYS_BIRTH'].min())*-1/365,0)}\")\n",
        "print(f\" Edad mínima: {round((banco_appli_record['DAYS_BIRTH'].max())*-1/365,0)}\")"
      ],
      "metadata": {
        "id": "S9v9mNKgWZdN"
      },
      "execution_count": null,
      "outputs": []
    },
    {
      "cell_type": "markdown",
      "source": [
        "Se analiza el balance de las categorías en cada variable"
      ],
      "metadata": {
        "id": "P1sk4HqUXzJp"
      }
    },
    {
      "cell_type": "code",
      "source": [
        "for i in banco_appli_record.columns[1:]:\n",
        "  print(f\"{i}\\n\")\n",
        "  print(f\"{banco_appli_record[i].value_counts()}\\n\")"
      ],
      "metadata": {
        "id": "gTaO2Cm7RZ8I"
      },
      "execution_count": null,
      "outputs": []
    },
    {
      "cell_type": "markdown",
      "source": [
        "De lo anterior, se observa que no hay presencia de caracteres o datos especiales \n",
        "\n",
        "Para la columna \"FLAG_MOBILE\", se evidencia que todos los datos son \"1\", por lo tanto se decide no trabajar con ella\n",
        " \n",
        "Se identifica que la columna de \"OCCUPATION_TYPE\" tiene datos NaN\n",
        "\n",
        "Respecto a los datos categóricos se observa un desbalanceo pero no se considera relevante"
      ],
      "metadata": {
        "id": "wy833xxdT1Ua"
      }
    },
    {
      "cell_type": "code",
      "source": [
        "del banco_appli_record[\"FLAG_MOBIL\"]\n",
        "banco_appli_record.info()"
      ],
      "metadata": {
        "id": "X04bxhmnUtGN"
      },
      "execution_count": null,
      "outputs": []
    },
    {
      "cell_type": "markdown",
      "source": [
        "**Datos númericos** (int,float)"
      ],
      "metadata": {
        "id": "r4NeD0dNFkHO"
      }
    },
    {
      "cell_type": "code",
      "source": [
        "banco_credit_num = banco_appli_record.select_dtypes(include = [\"int\",\"float\"]).columns.tolist()\n",
        "banco_credit_num.remove('ID')\n",
        "banco_appli_record[banco_credit_num].describe()"
      ],
      "metadata": {
        "id": "m4KPC1lmFisU"
      },
      "execution_count": null,
      "outputs": []
    },
    {
      "cell_type": "markdown",
      "source": [
        "**Datos categóricos** (objeto)"
      ],
      "metadata": {
        "id": "VFnoMnenWnYz"
      }
    },
    {
      "cell_type": "code",
      "source": [
        "banco_credit_obj = banco_appli_record.select_dtypes(include = [\"object\"]).columns.tolist()\n",
        "banco_appli_record[banco_credit_obj].describe()"
      ],
      "metadata": {
        "id": "tDbvaWsFuYJZ"
      },
      "execution_count": null,
      "outputs": []
    },
    {
      "cell_type": "markdown",
      "source": [
        "Se tratan los datos faltantes para la variable \"OCCUPATION_TYPE\""
      ],
      "metadata": {
        "id": "v5FOEbfIZ-Sv"
      }
    },
    {
      "cell_type": "code",
      "source": [
        "#####Se imputan los registros nulos de la columna \"OCCUPATION_TYPE\" con la moda\n",
        "banco_appli_record['OCCUPATION_TYPE'].fillna(stats.mode(banco_appli_record['OCCUPATION_TYPE'])[0][0], inplace=True)\n",
        "banco_appli_record[banco_credit_obj].head()"
      ],
      "metadata": {
        "id": "8gsjgeqx5b-u"
      },
      "execution_count": null,
      "outputs": []
    },
    {
      "cell_type": "code",
      "source": [
        "banco_appli_record[banco_credit_obj].describe()"
      ],
      "metadata": {
        "id": "Tt10j-Edap8z"
      },
      "execution_count": null,
      "outputs": []
    },
    {
      "cell_type": "markdown",
      "source": [
        "**Conclusión:** luego de probar con tres métodos diferentes (creación nueva clase, imputación por la moda y eliminación de la columna) y realizando pruebas con el modelo de \"regresión logística\", se observó que los mejores resultados se obtuvieron con la imputación de la moda. Además se consideró como regla de negocio que la ocupación es un factor relevante para la clasificación."
      ],
      "metadata": {
        "id": "elXlhSBLdyVi"
      }
    },
    {
      "cell_type": "markdown",
      "source": [
        "**Procesamiento para obtener variable de salida**"
      ],
      "metadata": {
        "id": "RPI29gaWazHz"
      }
    },
    {
      "cell_type": "markdown",
      "source": [
        "En la columna STATUS del dataset banco_credit_record, se asignará  “1” para los clientes con una deuda superior a los 60 días (cliente no apto) y “0” en cualquier otro caso (cliente apto)"
      ],
      "metadata": {
        "id": "vZ3iQot3bIOy"
      }
    },
    {
      "cell_type": "code",
      "source": [
        "banco_credit_record['STATUS'] = np.where((banco_credit_record['STATUS'] == '2') | (banco_credit_record['STATUS'] == '3' )| (banco_credit_record['STATUS'] == '4' )| (banco_credit_record['STATUS'] == '5'), 1, 0)\n",
        "banco_credit_record "
      ],
      "metadata": {
        "id": "HdGL0I5vlVN9"
      },
      "execution_count": null,
      "outputs": []
    },
    {
      "cell_type": "markdown",
      "source": [
        "Se convierte el ID a índice y se valida si en algún mes el usuario tiene una deuda superior a 60 días y se categoriza como cliente no apto"
      ],
      "metadata": {
        "id": "KJZ2wYs7boSs"
      }
    },
    {
      "cell_type": "code",
      "source": [
        "banco_credit_record_pivote = banco_credit_record.pivot(index = 'ID', columns = 'MONTHS_BALANCE', values = 'STATUS') #ID's SE CONVIERTEN EN INDICES\n",
        "banco_credit_record_pivote['RESULTADO'] = banco_credit_record_pivote.sum(axis=\"columns\") \n",
        "banco_credit_record_pivote['RESULTADO'] = np.where((banco_credit_record_pivote['RESULTADO'] > 0 ),1,0 ) #1 no apto, 0 apto\n",
        "banco_credit_record_pivote"
      ],
      "metadata": {
        "id": "SLDsTmk1m2g-"
      },
      "execution_count": null,
      "outputs": []
    },
    {
      "cell_type": "markdown",
      "source": [
        "Se unen los 2 datasets por medio del ID"
      ],
      "metadata": {
        "id": "GOXe_EmXUlaS"
      }
    },
    {
      "cell_type": "code",
      "source": [
        "banco_unido= pd.merge(banco_appli_record, banco_credit_record_pivote[\"RESULTADO\"], on='ID', how='inner')\n",
        "banco_unido.head()"
      ],
      "metadata": {
        "id": "c6JeLVb3je_l"
      },
      "execution_count": null,
      "outputs": []
    },
    {
      "cell_type": "code",
      "source": [
        "banco_unido.info()"
      ],
      "metadata": {
        "id": "g3mQva2HxQa4"
      },
      "execution_count": null,
      "outputs": []
    },
    {
      "cell_type": "markdown",
      "source": [
        "Se observa que la cantidad de registros disminuye debido a que solo 36.457 de estos están relacionados por el ID "
      ],
      "metadata": {
        "id": "fdh-hns6yOoP"
      }
    },
    {
      "cell_type": "code",
      "source": [
        "banco_credit_record['STATUS'] = np.where((banco_credit_record['STATUS'] == '2') | (banco_credit_record['STATUS'] == '3' )| (banco_credit_record['STATUS'] == '4' )| (banco_credit_record['STATUS'] == '5'), 1, 0)\n",
        "banco_credit_record "
      ],
      "metadata": {
        "id": "_nKwJa8ecOdG"
      },
      "execution_count": null,
      "outputs": []
    },
    {
      "cell_type": "code",
      "source": [
        "banco_unido[\"RESULTADO\"].value_counts()"
      ],
      "metadata": {
        "id": "0Z1LY18uxxte"
      },
      "execution_count": null,
      "outputs": []
    },
    {
      "cell_type": "code",
      "source": [
        "plt.figure(figsize=(8,4))\n",
        "plt.hist(banco_unido[\"RESULTADO\"])\n",
        "plt.ylabel('# registros')\n",
        "plt.xlabel('RESULTADO')\n",
        "plt.show()"
      ],
      "metadata": {
        "id": "y5Gxgz5mx6bg"
      },
      "execution_count": null,
      "outputs": []
    },
    {
      "cell_type": "markdown",
      "source": [
        "De los anteriores datos, se observa el desbalanceo de la variable de salida"
      ],
      "metadata": {
        "id": "S7tsNM5DzZqg"
      }
    },
    {
      "cell_type": "markdown",
      "source": [
        "Se elimina la variable ID, ya que no es relevante para el modelo y se crean variables dummies de las variables categóricas"
      ],
      "metadata": {
        "id": "RvBMDukVgs-A"
      }
    },
    {
      "cell_type": "code",
      "source": [
        "del banco_unido[\"ID\"]\n",
        "banco_unido_codi = pd.get_dummies(banco_unido, drop_first=1)\n",
        "banco_unido_codi.info()"
      ],
      "metadata": {
        "id": "LZkuaSQCgC__"
      },
      "execution_count": null,
      "outputs": []
    },
    {
      "cell_type": "markdown",
      "source": [
        "**Matriz de correlación**"
      ],
      "metadata": {
        "id": "Z_xK678zROaI"
      }
    },
    {
      "cell_type": "code",
      "source": [
        "matriz_Correlacion_banco = banco_unido_codi.corr()\n",
        "\n",
        "plt.figure(figsize=(40,40))\n",
        "\n",
        "ax = sns.heatmap(matriz_Correlacion_banco, annot=True, fmt='g', xticklabels = banco_unido_codi.columns, yticklabels = banco_unido_codi.columns)\n",
        "plt.show()"
      ],
      "metadata": {
        "id": "gyijRB0cRX5x"
      },
      "execution_count": null,
      "outputs": []
    },
    {
      "cell_type": "markdown",
      "source": [
        "De la matríz de correlación, se observa que:\n",
        "\n",
        "la variable de \"CNT_CHILDREN\" (cantidad de hijos) tiene una alta correlación con la variable \"CNT_FAM_MEMBERS\" (cantidad de miembros de la familia).\n",
        "\n",
        "la variable de \"DAYS_EMPLOYED\" (Días empleo/desempleo) tiene una alta correlación con la variable \"NAME_INCOME_TYPE_Pensioner\" (Pensionados)."
      ],
      "metadata": {
        "id": "3W69zIBVUWev"
      }
    },
    {
      "cell_type": "markdown",
      "source": [
        "Debido a la alta correlación entre las variables \"CNT_FAM_MEMBERS\" y \"CNT_CHILDREN\" (0.88) y entre las variables \"NAME_INCOME_TYPE_Pensioner\" y \"DAYS_EMPLOYED\" (0.99) se decide eliminar las características \"CNT_CHILDREN\" y \"NAME_INCOME_TYPE_Pensioner\".\n"
      ],
      "metadata": {
        "id": "3u_JJkws_SoR"
      }
    },
    {
      "cell_type": "code",
      "source": [
        "del banco_unido_codi[\"CNT_CHILDREN\"]\n",
        "banco_credit_num.remove('CNT_CHILDREN')\n",
        "del banco_unido_codi[\"NAME_INCOME_TYPE_Pensioner\"]"
      ],
      "metadata": {
        "id": "sBoZJ3h6KBsQ"
      },
      "execution_count": null,
      "outputs": []
    },
    {
      "cell_type": "markdown",
      "source": [
        "**Análisis de entropía**"
      ],
      "metadata": {
        "id": "SyiIi56hHEEX"
      }
    },
    {
      "cell_type": "markdown",
      "source": [
        "se realiza el análisis de la entropía relativa"
      ],
      "metadata": {
        "id": "56B3_znlHLR3"
      }
    },
    {
      "cell_type": "code",
      "source": [
        "caracteristicas_entropia = [\"AMT_INCOME_TOTAL\", \"DAYS_BIRTH\", \"DAYS_EMPLOYED\", \"CNT_FAM_MEMBERS\"]\n",
        "features = banco_unido_codi[caracteristicas_entropia]"
      ],
      "metadata": {
        "id": "oJg6Li-8NaNn"
      },
      "execution_count": null,
      "outputs": []
    },
    {
      "cell_type": "code",
      "source": [
        "MM = MinMaxScaler()\n",
        "features_normalizado = MM.fit_transform(features)\n",
        "features_normalizado = pd.DataFrame(features_normalizado, columns = features.columns)"
      ],
      "metadata": {
        "id": "R5DXsZMjObLQ"
      },
      "execution_count": null,
      "outputs": []
    },
    {
      "cell_type": "code",
      "source": [
        "entropia_relativa = []\n",
        "\n",
        "for _,n in enumerate(caracteristicas_entropia):\n",
        "  for _,m in enumerate(caracteristicas_entropia):\n",
        "    entropia_R = special.rel_entr(features_normalizado[n], features_normalizado[m])\n",
        "    entropia_R = pd.DataFrame(entropia_R).replace(np.inf,0) # Reemplazamos los valores infinitos o inf por 0\n",
        "    entropia_R = entropia_R.replace(-np.inf,0) # Reemplazamos los valores infinitos negativos o -inf por 0\n",
        "    suma_entropia_R = entropia_R.sum()/features_normalizado.shape[0]\n",
        "    entropia_relativa.append(suma_entropia_R)"
      ],
      "metadata": {
        "id": "N-xPVwZtKTZI"
      },
      "execution_count": null,
      "outputs": []
    },
    {
      "cell_type": "code",
      "source": [
        "entropia_relativa = np.asarray(entropia_relativa)\n",
        "entropia_relativa = entropia_relativa.reshape(features_normalizado.shape[1],features_normalizado.shape[1])\n",
        "entropia_relativa = pd.DataFrame(entropia_relativa, index = caracteristicas_entropia, columns = caracteristicas_entropia)\n",
        "\n",
        "plt.figure(figsize=(13,10))\n",
        "ax = sns.heatmap(entropia_relativa, annot=True, fmt='g', xticklabels = caracteristicas_entropia, yticklabels = caracteristicas_entropia)\n",
        "plt.show()"
      ],
      "metadata": {
        "id": "lXDhrn9nPatP"
      },
      "execution_count": null,
      "outputs": []
    },
    {
      "cell_type": "markdown",
      "source": [
        "De lo anterior, se puede apreciar que la variable DAYS_BIRTH tiene una entropía alta en relación a las demás características, por lo que se estará analizando con la selección de características si esta variable aporta o no información."
      ],
      "metadata": {
        "id": "kz5jsj-Pv38Q"
      }
    },
    {
      "cell_type": "markdown",
      "source": [
        "**Selección de características**"
      ],
      "metadata": {
        "id": "ZPLqgw8qxMOF"
      }
    },
    {
      "cell_type": "markdown",
      "source": [
        "Se realiza selección de caracteristicas por información mutua para identificar las variables que describen la base de datos."
      ],
      "metadata": {
        "id": "-BKF9ZG4xR3j"
      }
    },
    {
      "cell_type": "code",
      "source": [
        "Y = banco_unido_codi['RESULTADO']\n",
        "seleccion = mutual_info_classif(features, Y, discrete_features = 'auto', n_neighbors = 3)"
      ],
      "metadata": {
        "id": "GmTMgQFbySrk"
      },
      "execution_count": null,
      "outputs": []
    },
    {
      "cell_type": "code",
      "source": [
        "Tabla_concatenada = pd.concat([pd.DataFrame(features.columns, columns = ['Característica']), \n",
        "                               pd.DataFrame(seleccion, columns = ['Información Mutua'])], \n",
        "                              axis = 1)\n",
        "Tabla_concatenada"
      ],
      "metadata": {
        "id": "LnMFRs_0zKMK"
      },
      "execution_count": null,
      "outputs": []
    },
    {
      "cell_type": "markdown",
      "source": [
        "Dados los valores de la información mutua, no se descarta la variable DAYS_BIRTH."
      ],
      "metadata": {
        "id": "MdJWi3ym0SvN"
      }
    },
    {
      "cell_type": "markdown",
      "source": [
        "**Eliminación datos atípicos**"
      ],
      "metadata": {
        "id": "bsYP6qwFYA0c"
      }
    },
    {
      "cell_type": "markdown",
      "source": [
        "Identificación y eliminación con el método LOF (Local Outlier Factor)"
      ],
      "metadata": {
        "id": "Sx7HRkAyYA0d"
      }
    },
    {
      "cell_type": "code",
      "source": [
        "LOF_banco = LocalOutlierFactor(n_neighbors = 5, algorithm = 'auto', contamination = 0.05, metric = 'euclidean') \n",
        "filtrado_banco = LOF_banco.fit_predict(banco_unido_codi) # Se realiza la predicción de los datos atípicos\n",
        "NOF_banco = LOF_banco.negative_outlier_factor_ \n",
        "\n",
        "radio_outlier_banco = (NOF_banco.max() - NOF_banco)/(NOF_banco.max() - NOF_banco.min()) # radio de detección de datos atípicos\n",
        "ground_truth_banco = np.ones(len(banco_unido_codi), dtype = int) \n",
        "\n",
        "n_errors_banco = (filtrado_banco != ground_truth_banco).sum() # número de datos atípicos\n",
        "\n",
        "print(\"Detección: \", filtrado_banco)\n",
        "print(\"Factores atípicos negativos: \", NOF_banco)\n",
        "print(\"Número de muestras o filas con datos atípicos: \", n_errors_banco)"
      ],
      "metadata": {
        "id": "IJaPN5r7YA0m"
      },
      "execution_count": null,
      "outputs": []
    },
    {
      "cell_type": "markdown",
      "source": [
        "Se eliminan los 1820 datos atípicos encontrados en el paso anterior"
      ],
      "metadata": {
        "id": "1MhrLGefYA0n"
      }
    },
    {
      "cell_type": "code",
      "source": [
        "pos_banco = np.where(filtrado_banco == ground_truth_banco) # Se identifican en que muestras o filas de nuestra base de datos hay presencia de datos atípicos\n",
        "pos_banco = np.asarray(pos_banco)\n",
        "pos_banco = np.hstack(pos_banco)\n",
        "\n",
        "datos_sin_outliers_LOF_banco = banco_unido_codi.loc[pos_banco, :]\n",
        "print(f\"Número de muestras sin outliers: {datos_sin_outliers_LOF_banco.shape[0]}\\n\")\n",
        "display(datos_sin_outliers_LOF_banco)\n",
        "print(f\"\\nTamaño de base de datos original: {banco_unido_codi.shape}\")\n",
        "print(f\"Tamaño de base de datos sin outliers: {datos_sin_outliers_LOF_banco.shape}\") "
      ],
      "metadata": {
        "id": "Ayvz6b5UYA0o"
      },
      "execution_count": null,
      "outputs": []
    },
    {
      "cell_type": "markdown",
      "source": [
        "##Pruebas con Regresión logística con datos originales\n"
      ],
      "metadata": {
        "id": "6_7ikG2FUP6w"
      }
    },
    {
      "cell_type": "markdown",
      "metadata": {
        "id": "TU9ZL4vPlxUO"
      },
      "source": [
        "#### Búsqueda de hiperparámetros"
      ]
    },
    {
      "cell_type": "markdown",
      "source": [
        "Se reemplazan los valores de la variable de salida por:\n",
        "0 = APTO\n",
        "1 = NO_APTO"
      ],
      "metadata": {
        "id": "LR-52KIzh4za"
      }
    },
    {
      "cell_type": "code",
      "source": [
        "datos_sin_outliers_LOF_banco[\"RESULTADO\"].replace(0,'APTO', inplace=True)\n",
        "datos_sin_outliers_LOF_banco[\"RESULTADO\"].replace(1,'NO_APTO', inplace=True)"
      ],
      "metadata": {
        "id": "sObbvuZuRap9"
      },
      "execution_count": null,
      "outputs": []
    },
    {
      "cell_type": "code",
      "source": [
        "#Se remueve la columna de 'salida' => \"RESULTADO\"\n",
        "banco_columns = list(datos_sin_outliers_LOF_banco.columns)\n",
        "banco_columns.remove('RESULTADO')\n",
        "\n",
        "X = datos_sin_outliers_LOF_banco[banco_columns]\n",
        "y = datos_sin_outliers_LOF_banco['RESULTADO']"
      ],
      "metadata": {
        "id": "_N9ZTmHKQB2D"
      },
      "execution_count": null,
      "outputs": []
    },
    {
      "cell_type": "code",
      "source": [
        "banco_clientes_desbalanceo = pd.concat([X, y], axis=1)\n",
        "banco_clientes_desbalanceo"
      ],
      "metadata": {
        "id": "iO9UnD1tWrYX"
      },
      "execution_count": null,
      "outputs": []
    },
    {
      "cell_type": "code",
      "source": [
        "muestra_banco = banco_clientes_desbalanceo\n",
        "muestra_banco.info()"
      ],
      "metadata": {
        "id": "fVd0rXiQ-uIN"
      },
      "execution_count": null,
      "outputs": []
    },
    {
      "cell_type": "code",
      "source": [
        "#Se remueve la columna de 'salida' => \"RESULTADO\"\n",
        "banco_columns = list(muestra_banco.columns)\n",
        "banco_columns.remove('RESULTADO')\n",
        "\n",
        "X = muestra_banco[banco_columns]\n",
        "y = muestra_banco['RESULTADO']\n"
      ],
      "metadata": {
        "id": "TOfZc8Ox_jpA"
      },
      "execution_count": null,
      "outputs": []
    },
    {
      "cell_type": "code",
      "source": [
        "#Datos de entrenamiento y de prueba\n",
        "X_train, X_test, y_train, y_test = train_test_split(\n",
        "                                        X,\n",
        "                                        y.values.reshape(-1,1), \n",
        "                                        train_size   = 0.8,\n",
        "                                        random_state = 1234,\n",
        "                                        shuffle      = True\n",
        "                                    )\n"
      ],
      "metadata": {
        "id": "Nha_TH7gAeD0"
      },
      "execution_count": null,
      "outputs": []
    },
    {
      "cell_type": "code",
      "source": [
        "scaler = MinMaxScaler()\n",
        "num_vars = banco_credit_num\n",
        "X_train[num_vars] = scaler.fit_transform(X_train[num_vars])\n",
        "X_test[num_vars] = scaler.fit_transform(X_test[num_vars])"
      ],
      "metadata": {
        "id": "XRlFaFo7R5RA"
      },
      "execution_count": null,
      "outputs": []
    },
    {
      "cell_type": "code",
      "source": [
        "X_Completo = X\n",
        "y_Completo = y"
      ],
      "metadata": {
        "id": "AvTfr_aknlUX"
      },
      "execution_count": null,
      "outputs": []
    },
    {
      "cell_type": "code",
      "execution_count": null,
      "metadata": {
        "scrolled": true,
        "id": "fM2J5a35lxUO"
      },
      "outputs": [],
      "source": [
        "logisticReg = LogisticRegression()\n",
        "\n",
        "parameters = {'C': [0.001, 0.1, 1, 10, 100, 1000],\n",
        "              'multi_class': ['ovr', 'auto', 'multinomial'], \n",
        "              'solver': ['liblinear', 'saga', 'lbfgs', 'newton-cg', 'sag'],\n",
        "              'class_weight': ['balanced', None]\n",
        "              } \n",
        "\n",
        "#grid_reg_log = GridSearchCV(logisticReg, param_grid=parameters, cv=10, verbose=3)\n",
        "\n",
        "#grid_reg_log_result = grid_reg_log.fit(X_Completo,y_Completo) \n",
        "\n",
        "#grid_reg_log_result"
      ]
    },
    {
      "cell_type": "markdown",
      "metadata": {
        "id": "r5WVbZY9kbMo"
      },
      "source": [
        "#### Validación con modelo Regresión Logística"
      ]
    },
    {
      "cell_type": "markdown",
      "metadata": {
        "id": "HuGlMq8OkbMr"
      },
      "source": [
        "##### Creación del modelo"
      ]
    },
    {
      "cell_type": "code",
      "execution_count": null,
      "metadata": {
        "id": "6u_fT8XCn6Qb"
      },
      "outputs": [],
      "source": [
        "#best_params_reg_log = grid_reg_log_result.best_params_\n",
        "#print('Best Parameters : ', best_params_reg_log)"
      ]
    },
    {
      "cell_type": "code",
      "source": [
        "###################ELIMINAAAAAAAAAR\n",
        "best_params_reg_log = {'C': 0.001, 'class_weight': None, 'multi_class': 'ovr', 'solver': 'liblinear'}"
      ],
      "metadata": {
        "id": "b1JT7kgddD_0"
      },
      "execution_count": null,
      "outputs": []
    },
    {
      "cell_type": "code",
      "source": [
        "X = banco_clientes_desbalanceo[banco_columns]\n",
        "y = banco_clientes_desbalanceo['RESULTADO']"
      ],
      "metadata": {
        "id": "EafEdw2SHhQG"
      },
      "execution_count": null,
      "outputs": []
    },
    {
      "cell_type": "code",
      "source": [
        "#Datos de entrenamiento y de prueba base de datos completa\n",
        "X_train, X_test, y_train, y_test = train_test_split(\n",
        "                                        X,\n",
        "                                        y.values.reshape(-1,1), \n",
        "                                        train_size   = 0.8,\n",
        "                                        random_state = 1234,\n",
        "                                        shuffle      = True\n",
        "                                    )\n"
      ],
      "metadata": {
        "id": "8SqOa3sdIsjk"
      },
      "execution_count": null,
      "outputs": []
    },
    {
      "cell_type": "code",
      "source": [
        "scaler = MinMaxScaler()\n",
        "num_vars = banco_credit_num\n",
        "X_train[num_vars] = scaler.fit_transform(X_train[num_vars])\n",
        "X_test[num_vars] = scaler.fit_transform(X_test[num_vars])"
      ],
      "metadata": {
        "id": "XTRpCesTIsjl"
      },
      "execution_count": null,
      "outputs": []
    },
    {
      "cell_type": "markdown",
      "source": [
        "Se crea el modelo con los mejores parámetros obtenidos del método anterior ('C': 100, 'class_weight': None, 'multi_class': 'multinomial', 'solver': 'newton-cg')"
      ],
      "metadata": {
        "id": "82Su2eLTn6Qc"
      }
    },
    {
      "cell_type": "code",
      "source": [
        "model_reg_logistica = LogisticRegression(\n",
        "    C = best_params_reg_log[\"C\"],\n",
        "    class_weight = best_params_reg_log[\"class_weight\"], \n",
        "    multi_class = best_params_reg_log[\"multi_class\"], \n",
        "    solver = best_params_reg_log[\"solver\"],\n",
        "    random_state = 0)\n",
        "\n",
        "model_reg_logistica.fit(X_train, y_train)"
      ],
      "metadata": {
        "id": "pdvRmd3Uq3qT"
      },
      "execution_count": null,
      "outputs": []
    },
    {
      "cell_type": "markdown",
      "metadata": {
        "id": "Zez1nXy9wXe4"
      },
      "source": [
        "##### Accuracy"
      ]
    },
    {
      "cell_type": "code",
      "execution_count": null,
      "metadata": {
        "id": "DrVWrVrjwXe4"
      },
      "outputs": [],
      "source": [
        "y_1 = model_reg_logistica.predict(X_test)\n",
        "y_pred = model_reg_logistica.predict_proba(X_test)"
      ]
    },
    {
      "cell_type": "code",
      "execution_count": null,
      "metadata": {
        "id": "8nEG2RvxwXe5"
      },
      "outputs": [],
      "source": [
        "print(\"===========Accuracy Logistic Regression ================\")\n",
        "print(metrics.accuracy_score(y_test, y_1))"
      ]
    },
    {
      "cell_type": "markdown",
      "source": [
        "##### Balanced accuracy score"
      ],
      "metadata": {
        "id": "gYdEA7b3666C"
      }
    },
    {
      "cell_type": "code",
      "source": [
        "y_1[y_1== 'APTO'] = 0\n",
        "y_test[y_test == 'APTO'] = 0\n",
        "y_1[y_1== 'NO_APTO'] = 1\n",
        "y_test[y_test == 'NO_APTO'] = 1\n",
        "\n",
        "y_test = y_test.tolist()\n",
        "y_1 = y_1.tolist()\n",
        "\n",
        "print(\"===========Balanced Accuracy Score ================\")\n",
        "print(balanced_accuracy_score(y_test, y_1))\n"
      ],
      "metadata": {
        "id": "VtoAuafL8Fcx"
      },
      "execution_count": null,
      "outputs": []
    },
    {
      "cell_type": "markdown",
      "source": [
        "##### Pérdida de entropía cruzada (Log Loss)"
      ],
      "metadata": {
        "id": "zsBu3BUcEsR5"
      }
    },
    {
      "cell_type": "code",
      "source": [
        "y_test = np.array(y_test)\n",
        "log_loss(y_test, y_pred)"
      ],
      "metadata": {
        "id": "EIqRxkoIEr9e"
      },
      "execution_count": null,
      "outputs": []
    },
    {
      "cell_type": "markdown",
      "metadata": {
        "id": "Wr0MTJyZwXe5"
      },
      "source": [
        "##### Matriz de confusión"
      ]
    },
    {
      "cell_type": "code",
      "execution_count": null,
      "metadata": {
        "id": "950oMOsFwXe5"
      },
      "outputs": [],
      "source": [
        "#Matriz de confusión\n",
        "conf_mat = confusion_matrix(y_test, y_1)\n",
        "conf_mat = np.round(((conf_mat/len(y_test))*100),1)\n",
        "\n",
        "fig, ax = plt.subplots(figsize=(6,4))\n",
        "sns.heatmap(conf_mat\n",
        "            , annot=True\n",
        "            , fmt='.1f'\n",
        "            , xticklabels=banco_clientes_desbalanceo['RESULTADO'].sort_values().unique()\n",
        "            , yticklabels=banco_clientes_desbalanceo['RESULTADO'].sort_values().unique()\n",
        "           )\n",
        "plt.ylabel('Actual')\n",
        "plt.xlabel('Predicted')\n",
        "plt.show()\n",
        "\n",
        "print(metrics.classification_report(y_test, y_1, target_names=banco_clientes_desbalanceo['RESULTADO'].sort_values().unique()))"
      ]
    },
    {
      "cell_type": "markdown",
      "metadata": {
        "id": "EVVZB3wDwXe5"
      },
      "source": [
        "##### Receiver Operating Characteristic (ROC)"
      ]
    },
    {
      "cell_type": "code",
      "execution_count": null,
      "metadata": {
        "id": "OVtPdxEywXe6"
      },
      "outputs": [],
      "source": [
        "#Convertir y_test NO_APTO y APTO en 1 y 0\n",
        "e_dataframe = pd.DataFrame(y_test)\n",
        "e_dataframe.replace('NO_APTO',1, inplace=True)\n",
        "e_dataframe.replace('APTO', 0,inplace=True)\n",
        "arr = e_dataframe.to_numpy()"
      ]
    },
    {
      "cell_type": "code",
      "execution_count": null,
      "metadata": {
        "id": "Pl-ZnFgVwXe6"
      },
      "outputs": [],
      "source": [
        "fig = plt.figure(figsize=(10,6))\n",
        "\n",
        "probs = model_reg_logistica.predict_proba(X_test)\n",
        "probs = probs[:, 1]\n",
        "auc = roc_auc_score(arr, probs*(1))\n",
        "\n",
        "print('AUC: %.2f' % auc)\n",
        "fpr, tpr, thresholds = roc_curve(arr, probs*(1))\n",
        "plot_roc_curve(fpr, tpr)"
      ]
    },
    {
      "cell_type": "markdown",
      "source": [
        "##### Precision Recall Curve"
      ],
      "metadata": {
        "id": "ZWpz2JVXC08U"
      }
    },
    {
      "cell_type": "code",
      "source": [
        "prec, recall, _ = precision_recall_curve(y_test, y_1)\n",
        "pr_display = PrecisionRecallDisplay(precision=prec, recall=recall).plot()"
      ],
      "metadata": {
        "id": "VHvSeQYRDhvH"
      },
      "execution_count": null,
      "outputs": []
    },
    {
      "cell_type": "markdown",
      "source": [
        "## Sobremuestreo para solucionar desbalanceo"
      ],
      "metadata": {
        "id": "FGXzkv-M3JgA"
      }
    },
    {
      "cell_type": "markdown",
      "source": [
        "### RandomOverSampler"
      ],
      "metadata": {
        "id": "rs2Rmmh5OOk1"
      }
    },
    {
      "cell_type": "code",
      "source": [
        "#Se remueve la columna de 'salida' => \"RESULTADO\"\n",
        "banco_columns = list(muestra_banco.columns)\n",
        "banco_columns.remove('RESULTADO')\n",
        "\n",
        "X = muestra_banco[banco_columns]\n",
        "y = muestra_banco['RESULTADO']"
      ],
      "metadata": {
        "id": "cgTI5cLTOOk1"
      },
      "execution_count": null,
      "outputs": []
    },
    {
      "cell_type": "code",
      "source": [
        "sm = RandomOverSampler( random_state=42)\n",
        "X_res, y_res = sm.fit_resample(X, y)\n",
        "print('Original dataset shape %s' % Counter(y))\n",
        "print('Resampled dataset shape %s' % Counter(y_res))"
      ],
      "metadata": {
        "id": "2af86YuLOOk1"
      },
      "execution_count": null,
      "outputs": []
    },
    {
      "cell_type": "markdown",
      "source": [
        "####Busqueda de hiperparámetros "
      ],
      "metadata": {
        "id": "_nSgHAgP2bb5"
      }
    },
    {
      "cell_type": "code",
      "source": [
        "banco_clientes_sinteticos = pd.concat([X_res, y_res], axis=1)\n",
        "banco_clientes_sinteticos"
      ],
      "metadata": {
        "id": "p5hqARcH29Ga"
      },
      "execution_count": null,
      "outputs": []
    },
    {
      "cell_type": "code",
      "source": [
        "banco_clientes_sinteticos.info()"
      ],
      "metadata": {
        "id": "GhkVb7GJ29Gb"
      },
      "execution_count": null,
      "outputs": []
    },
    {
      "cell_type": "code",
      "source": [
        "#Se remueve la columna de 'salida' => \"RESULTADO\"\n",
        "banco_columns = list(muestra_banco.columns)\n",
        "banco_columns.remove('RESULTADO')\n",
        "\n",
        "X = banco_clientes_sinteticos[banco_columns]\n",
        "y = banco_clientes_sinteticos['RESULTADO']\n"
      ],
      "metadata": {
        "id": "iA3Jt2Z_29Gb"
      },
      "execution_count": null,
      "outputs": []
    },
    {
      "cell_type": "code",
      "source": [
        "#Datos de entrenamiento y de prueba\n",
        "X_train, X_test, y_train, y_test = train_test_split(\n",
        "                                        X,\n",
        "                                        y.values.reshape(-1,1), \n",
        "                                        train_size   = 0.8,\n",
        "                                        random_state = 1234,\n",
        "                                        shuffle      = True\n",
        "                                    )\n"
      ],
      "metadata": {
        "id": "HPaxg-Yb29Gb"
      },
      "execution_count": null,
      "outputs": []
    },
    {
      "cell_type": "code",
      "source": [
        "scaler = MinMaxScaler()\n",
        "num_vars = banco_credit_num\n",
        "X_train[num_vars] = scaler.fit_transform(X_train[num_vars])\n",
        "X_test[num_vars] = scaler.fit_transform(X_test[num_vars])"
      ],
      "metadata": {
        "id": "4X6_Q22h29Gb"
      },
      "execution_count": null,
      "outputs": []
    },
    {
      "cell_type": "code",
      "source": [
        "X_Completo = X\n",
        "y_Completo = y"
      ],
      "metadata": {
        "id": "XCS4qaDh29Gb"
      },
      "execution_count": null,
      "outputs": []
    },
    {
      "cell_type": "code",
      "execution_count": null,
      "metadata": {
        "scrolled": true,
        "id": "HK5W528G29Gb"
      },
      "outputs": [],
      "source": [
        "logisticReg = LogisticRegression()\n",
        "\n",
        "parameters = {'C': [0.001, 0.1, 1, 10, 100, 1000],\n",
        "              'multi_class': ['ovr', 'auto', 'multinomial'], \n",
        "              'solver': ['liblinear', 'saga', 'lbfgs', 'newton-cg', 'sag'],\n",
        "              'class_weight': ['balanced', None]\n",
        "              } \n",
        "\n",
        "#grid_reg_log = GridSearchCV(logisticReg, param_grid=parameters, cv=10, verbose=3)\n",
        "\n",
        "#grid_reg_log_result = grid_reg_log.fit(X_Completo,y_Completo) \n",
        "\n",
        "#grid_reg_log_result"
      ]
    },
    {
      "cell_type": "markdown",
      "metadata": {
        "id": "lxKjYRVfOOk2"
      },
      "source": [
        "#### Creación del modelo Con RandomOverSampler"
      ]
    },
    {
      "cell_type": "code",
      "execution_count": null,
      "metadata": {
        "id": "2bZhL-wAOOk2"
      },
      "outputs": [],
      "source": [
        "#best_params_reg_log = grid_reg_log_result.best_params_\n",
        "#print('Best Parameters : ', best_params_reg_log)"
      ]
    },
    {
      "cell_type": "code",
      "source": [
        "###################ELIMINAAAAAAAAAR\n",
        "best_params_reg_log = {'C': 1000, 'class_weight': 'balanced', 'multi_class': 'multinomial', 'solver': 'newton-cg'}"
      ],
      "metadata": {
        "id": "axX2zJTm41KZ"
      },
      "execution_count": null,
      "outputs": []
    },
    {
      "cell_type": "markdown",
      "source": [
        "Se entrena el modelo con el 100% de los datos sintéticos y se prueba con el 100% de los datos originales"
      ],
      "metadata": {
        "id": "AwHEh-cb5yUq"
      }
    },
    {
      "cell_type": "code",
      "source": [
        "X_train = X_res\n",
        "y_train = y_res\n",
        "\n",
        "X_test = muestra_banco[banco_columns]\n",
        "y_test = muestra_banco['RESULTADO']"
      ],
      "metadata": {
        "id": "wYOpCBoKOOk2"
      },
      "execution_count": null,
      "outputs": []
    },
    {
      "cell_type": "code",
      "source": [
        "scaler = MinMaxScaler()\n",
        "num_vars = banco_credit_num\n",
        "X_train[num_vars] = scaler.fit_transform(X_train[num_vars])\n",
        "X_test[num_vars] = scaler.fit_transform(X_test[num_vars])"
      ],
      "metadata": {
        "id": "GFtBFcXNOOk2"
      },
      "execution_count": null,
      "outputs": []
    },
    {
      "cell_type": "code",
      "source": [
        "model_reg_logistica = LogisticRegression(\n",
        "    C = best_params_reg_log[\"C\"],\n",
        "    class_weight = best_params_reg_log[\"class_weight\"], \n",
        "    multi_class = best_params_reg_log[\"multi_class\"], \n",
        "    solver = best_params_reg_log[\"solver\"],\n",
        "    random_state = 0)\n",
        "\n",
        "model_reg_logistica.fit(X_train, y_train)"
      ],
      "metadata": {
        "id": "d8eLEpA_OOk3"
      },
      "execution_count": null,
      "outputs": []
    },
    {
      "cell_type": "markdown",
      "metadata": {
        "id": "Qmf4C0E8OOk3"
      },
      "source": [
        "#### Accuracy"
      ]
    },
    {
      "cell_type": "code",
      "execution_count": null,
      "metadata": {
        "id": "_4zAMfsQOOk3"
      },
      "outputs": [],
      "source": [
        "y_1 = model_reg_logistica.predict(X_test)\n",
        "y_pred = model_reg_logistica.predict_proba(X_test)"
      ]
    },
    {
      "cell_type": "code",
      "execution_count": null,
      "metadata": {
        "id": "_tRNkMePOOk3"
      },
      "outputs": [],
      "source": [
        "print(\"===========Accuracy Logistic Regression ================\")\n",
        "print(metrics.accuracy_score(y_test, y_1))"
      ]
    },
    {
      "cell_type": "markdown",
      "source": [
        "#### Balanced accuracy score"
      ],
      "metadata": {
        "id": "eJeOpFDrKsc3"
      }
    },
    {
      "cell_type": "code",
      "source": [
        "y_test = y_test.replace({\"APTO\": 0, \"NO_APTO\": 1})\n",
        "\n",
        "y_1[y_1== 'APTO'] = 0\n",
        "y_1[y_1== 'NO_APTO'] = 1\n",
        "\n",
        "y_test = y_test.tolist()\n",
        "y_1 = y_1.tolist()\n",
        "\n",
        "print(\"===========Balanced Accuracy Score ================\")\n",
        "print(balanced_accuracy_score(y_test, y_1))\n"
      ],
      "metadata": {
        "id": "Tj6hcAXTKsc3"
      },
      "execution_count": null,
      "outputs": []
    },
    {
      "cell_type": "markdown",
      "source": [
        "#### Pérdida de entropía cruzada (Log Loss)"
      ],
      "metadata": {
        "id": "4-9ZNEH_Ksc3"
      }
    },
    {
      "cell_type": "code",
      "source": [
        "y_test = np.array(y_test)\n",
        "log_loss(y_test, y_pred)"
      ],
      "metadata": {
        "id": "1yBTbjXHKsc3"
      },
      "execution_count": null,
      "outputs": []
    },
    {
      "cell_type": "markdown",
      "metadata": {
        "id": "B7SKPyRdOOk3"
      },
      "source": [
        "#### Matriz de confusión"
      ]
    },
    {
      "cell_type": "code",
      "source": [
        "y_1 = ['APTO' if x==0 else 'NO_APTO' for x in y_1]\n",
        "y_test = ['APTO' if x==0 else 'NO_APTO' for x in y_test]"
      ],
      "metadata": {
        "id": "xl61jrTlelmh"
      },
      "execution_count": null,
      "outputs": []
    },
    {
      "cell_type": "code",
      "execution_count": null,
      "metadata": {
        "id": "O8XUjcdIOOk4"
      },
      "outputs": [],
      "source": [
        "#Matriz de confusión\n",
        "conf_mat = confusion_matrix(y_test, y_1)\n",
        "conf_mat = np.round(((conf_mat/len(y_test))*100),1)\n",
        "\n",
        "fig, ax = plt.subplots(figsize=(6,4))\n",
        "sns.heatmap(conf_mat\n",
        "            , annot=True\n",
        "            , fmt='.1f'\n",
        "            , xticklabels=set(y_1)\n",
        "            , yticklabels=set(y_1)\n",
        "           )\n",
        "plt.ylabel('Actual')\n",
        "plt.xlabel('Predicted')\n",
        "plt.show()\n",
        "\n",
        "print(metrics.classification_report(y_test, y_1, target_names=set(y_1)))"
      ]
    },
    {
      "cell_type": "markdown",
      "metadata": {
        "id": "8VtxeCGwOOk4"
      },
      "source": [
        "#### Receiver Operating Characteristic (ROC)"
      ]
    },
    {
      "cell_type": "code",
      "execution_count": null,
      "metadata": {
        "id": "dDtBEYaqOOk4"
      },
      "outputs": [],
      "source": [
        "e_dataframe = pd.DataFrame(y_test)\n",
        "e_dataframe.replace('NO_APTO',1, inplace=True)\n",
        "e_dataframe.replace('APTO', 0,inplace=True)\n",
        "arr = e_dataframe.to_numpy()"
      ]
    },
    {
      "cell_type": "code",
      "execution_count": null,
      "metadata": {
        "id": "vja-zZmROOk4"
      },
      "outputs": [],
      "source": [
        "fig = plt.figure(figsize=(10,6))\n",
        "\n",
        "probs = model_reg_logistica.predict_proba(X_test)\n",
        "probs = probs[:, 1]\n",
        "auc = roc_auc_score(arr, probs*(-1))\n",
        "\n",
        "print('AUC: %.2f' % (1-auc))\n",
        "fpr, tpr, thresholds = roc_curve(arr, probs*(1))\n",
        "plot_roc_curve(fpr, tpr)"
      ]
    },
    {
      "cell_type": "markdown",
      "source": [
        "#### Precision Recall Curve"
      ],
      "metadata": {
        "id": "mFiHpzSfKsc3"
      }
    },
    {
      "cell_type": "code",
      "source": [
        "y_1 = [0 if x== 'APTO' else 1 for x in y_1]\n",
        "y_test = [0 if x== 'APTO' else 1 for x in y_test]"
      ],
      "metadata": {
        "id": "SrP88hilIksD"
      },
      "execution_count": null,
      "outputs": []
    },
    {
      "cell_type": "code",
      "source": [
        "prec, recall, _ = precision_recall_curve(y_test, y_1)\n",
        "pr_display = PrecisionRecallDisplay(precision=prec, recall=recall).plot()"
      ],
      "metadata": {
        "id": "SbjoCJ2UKsc3"
      },
      "execution_count": null,
      "outputs": []
    },
    {
      "cell_type": "markdown",
      "source": [
        "### SMOTEN"
      ],
      "metadata": {
        "id": "b5GAFBVMHxL4"
      }
    },
    {
      "cell_type": "code",
      "source": [
        "#Se remueve la columna de 'salida' => \"RESULTADO\"\n",
        "banco_columns = list(muestra_banco.columns)\n",
        "banco_columns.remove('RESULTADO')\n",
        "\n",
        "X = muestra_banco[banco_columns]\n",
        "y = muestra_banco['RESULTADO']"
      ],
      "metadata": {
        "id": "TNF6X-ROHxL4"
      },
      "execution_count": null,
      "outputs": []
    },
    {
      "cell_type": "code",
      "source": [
        "sm = SMOTEN(random_state=42)\n",
        "X_res, y_res = sm.fit_resample(X, y)\n",
        "print('Original dataset shape %s' % Counter(y))\n",
        "print('Resampled dataset shape %s' % Counter(y_res))"
      ],
      "metadata": {
        "id": "yj69Y8Z8HxL5"
      },
      "execution_count": null,
      "outputs": []
    },
    {
      "cell_type": "markdown",
      "source": [
        "####Busqueda de hiperparámetros "
      ],
      "metadata": {
        "id": "-uXQv9UPJpu1"
      }
    },
    {
      "cell_type": "code",
      "source": [
        "banco_clientes_sinteticos = pd.concat([X_res, y_res], axis=1)\n",
        "banco_clientes_sinteticos"
      ],
      "metadata": {
        "id": "0gRxv8L1JOcn"
      },
      "execution_count": null,
      "outputs": []
    },
    {
      "cell_type": "code",
      "source": [
        "banco_clientes_sinteticos.info()"
      ],
      "metadata": {
        "id": "AXZ1lCT-JOco"
      },
      "execution_count": null,
      "outputs": []
    },
    {
      "cell_type": "code",
      "source": [
        "#Se remueve la columna de 'salida' => \"RESULTADO\"\n",
        "banco_columns = list(muestra_banco.columns)\n",
        "banco_columns.remove('RESULTADO')\n",
        "\n",
        "X = banco_clientes_sinteticos[banco_columns]\n",
        "y = banco_clientes_sinteticos['RESULTADO']\n"
      ],
      "metadata": {
        "id": "MYZTxiQzJOco"
      },
      "execution_count": null,
      "outputs": []
    },
    {
      "cell_type": "code",
      "source": [
        "#Datos de entrenamiento y de prueba\n",
        "X_train, X_test, y_train, y_test = train_test_split(\n",
        "                                        X,\n",
        "                                        y.values.reshape(-1,1), \n",
        "                                        train_size   = 0.8,\n",
        "                                        random_state = 1234,\n",
        "                                        shuffle      = True\n",
        "                                    )\n"
      ],
      "metadata": {
        "id": "suIfHgHaJOco"
      },
      "execution_count": null,
      "outputs": []
    },
    {
      "cell_type": "code",
      "source": [
        "scaler = MinMaxScaler()\n",
        "num_vars = banco_credit_num\n",
        "X_train[num_vars] = scaler.fit_transform(X_train[num_vars])\n",
        "X_test[num_vars] = scaler.fit_transform(X_test[num_vars])"
      ],
      "metadata": {
        "id": "1aG9-1CHJOco"
      },
      "execution_count": null,
      "outputs": []
    },
    {
      "cell_type": "code",
      "source": [
        "X_Completo = X\n",
        "y_Completo = y"
      ],
      "metadata": {
        "id": "fiNPRTGIJOco"
      },
      "execution_count": null,
      "outputs": []
    },
    {
      "cell_type": "code",
      "execution_count": null,
      "metadata": {
        "scrolled": true,
        "id": "ebbD0HtXJOco"
      },
      "outputs": [],
      "source": [
        "logisticReg = LogisticRegression()\n",
        "\n",
        "parameters = {'C': [0.001, 0.1, 1, 10, 100, 1000],\n",
        "              'multi_class': ['ovr', 'auto', 'multinomial'], \n",
        "              'solver': ['liblinear', 'saga', 'lbfgs', 'newton-cg', 'sag'],\n",
        "              'class_weight': ['balanced', None]\n",
        "              } \n",
        "\n",
        "#grid_reg_log = GridSearchCV(logisticReg, param_grid=parameters, cv=10, verbose=3)\n",
        "\n",
        "#grid_reg_log_result = grid_reg_log.fit(X_Completo,y_Completo) \n",
        "\n",
        "#grid_reg_log_result"
      ]
    },
    {
      "cell_type": "markdown",
      "metadata": {
        "id": "drQp3yi2HxL5"
      },
      "source": [
        "#### Creación del modelo Con SMOTEN"
      ]
    },
    {
      "cell_type": "code",
      "source": [
        "#best_params_reg_log = grid_reg_log_result.best_params_\n",
        "#print('Best Parameters : ', best_params_reg_log)"
      ],
      "metadata": {
        "id": "TDMxxTULZpxp"
      },
      "execution_count": null,
      "outputs": []
    },
    {
      "cell_type": "code",
      "source": [],
      "metadata": {
        "id": "nRO13EBQo3GD"
      },
      "execution_count": null,
      "outputs": []
    },
    {
      "cell_type": "code",
      "source": [
        "###################ELIMINAAAAAAAAAR\n",
        "best_params_reg_log = {'C': 0.1, 'class_weight': None, 'multi_class': 'multinomial', 'solver': 'newton-cg'}"
      ],
      "metadata": {
        "id": "ukNe7E81KDjf"
      },
      "execution_count": null,
      "outputs": []
    },
    {
      "cell_type": "markdown",
      "source": [
        "Se entrena el modelo con el 100% de los datos sintéticos y se prueba con el 100% de los datos originales"
      ],
      "metadata": {
        "id": "SRiSndd_KDjf"
      }
    },
    {
      "cell_type": "code",
      "source": [
        "X_train = X_res\n",
        "y_train = y_res\n",
        "\n",
        "X_test = muestra_banco[banco_columns]\n",
        "y_test = muestra_banco['RESULTADO']"
      ],
      "metadata": {
        "id": "2E9mhZIJKDjf"
      },
      "execution_count": null,
      "outputs": []
    },
    {
      "cell_type": "code",
      "source": [
        "scaler = MinMaxScaler()\n",
        "num_vars = banco_credit_num\n",
        "X_train[num_vars] = scaler.fit_transform(X_train[num_vars])\n",
        "X_test[num_vars] = scaler.fit_transform(X_test[num_vars])"
      ],
      "metadata": {
        "id": "4rYMPwocKDjf"
      },
      "execution_count": null,
      "outputs": []
    },
    {
      "cell_type": "code",
      "source": [
        "model_reg_logistica = LogisticRegression(\n",
        "    C = best_params_reg_log[\"C\"],\n",
        "    class_weight = best_params_reg_log[\"class_weight\"], \n",
        "    multi_class = best_params_reg_log[\"multi_class\"], \n",
        "    solver = best_params_reg_log[\"solver\"],\n",
        "    random_state = 0)\n",
        "\n",
        "model_reg_logistica.fit(X_train, y_train)"
      ],
      "metadata": {
        "id": "Gev9M2qcKDjg"
      },
      "execution_count": null,
      "outputs": []
    },
    {
      "cell_type": "markdown",
      "metadata": {
        "id": "yUXBph2lHxL6"
      },
      "source": [
        "#### Accuracy"
      ]
    },
    {
      "cell_type": "code",
      "execution_count": null,
      "metadata": {
        "id": "L3JeYDV3Kimt"
      },
      "outputs": [],
      "source": [
        "y_1 = model_reg_logistica.predict(X_test)\n",
        "y_pred = model_reg_logistica.predict_proba(X_test)"
      ]
    },
    {
      "cell_type": "code",
      "execution_count": null,
      "metadata": {
        "id": "MICxiXbbKimt"
      },
      "outputs": [],
      "source": [
        "print(\"===========Accuracy Logistic Regression ================\")\n",
        "print(metrics.accuracy_score(y_test, y_1))"
      ]
    },
    {
      "cell_type": "markdown",
      "source": [
        "#### Balanced accuracy score"
      ],
      "metadata": {
        "id": "WxnSdAJgKzv8"
      }
    },
    {
      "cell_type": "code",
      "source": [
        "y_test = y_test.replace({\"APTO\": 0, \"NO_APTO\": 1})\n",
        "\n",
        "y_1[y_1== 'APTO'] = 0\n",
        "y_1[y_1== 'NO_APTO'] = 1\n",
        "\n",
        "y_test = y_test.tolist()\n",
        "y_1 = y_1.tolist()\n",
        "\n",
        "print(\"===========Balanced Accuracy Score ================\")\n",
        "print(balanced_accuracy_score(y_test, y_1))\n"
      ],
      "metadata": {
        "id": "aQfySZP0Kw3B"
      },
      "execution_count": null,
      "outputs": []
    },
    {
      "cell_type": "markdown",
      "source": [
        "#### Pérdida de entropía cruzada (Log Loss)"
      ],
      "metadata": {
        "id": "vRpT6XXrK6ra"
      }
    },
    {
      "cell_type": "code",
      "source": [
        "y_test = np.array(y_test)\n",
        "log_loss(y_test, y_pred)"
      ],
      "metadata": {
        "id": "s2MSPLHIK6ra"
      },
      "execution_count": null,
      "outputs": []
    },
    {
      "cell_type": "markdown",
      "metadata": {
        "id": "vahCPrLmHxL8"
      },
      "source": [
        "#### Matriz de confusión"
      ]
    },
    {
      "cell_type": "code",
      "source": [
        "y_1_mat = ['APTO' if x==0 else 'NO_APTO' for x in y_1]\n",
        "y_test_mat = ['APTO' if x==0 else 'NO_APTO' for x in y_test]"
      ],
      "metadata": {
        "id": "2a_ZPAW1LECz"
      },
      "execution_count": null,
      "outputs": []
    },
    {
      "cell_type": "code",
      "execution_count": null,
      "metadata": {
        "id": "jiuHWZrpLECz"
      },
      "outputs": [],
      "source": [
        "#Matriz de confusión\n",
        "conf_mat = confusion_matrix(y_test_mat, y_1_mat)\n",
        "conf_mat = np.round(((conf_mat/len(y_test_mat))*100),1)\n",
        "\n",
        "fig, ax = plt.subplots(figsize=(6,4))\n",
        "sns.heatmap(conf_mat\n",
        "            , annot=True\n",
        "            , fmt='.1f'\n",
        "            , xticklabels=set(y_1_mat)\n",
        "            , yticklabels=set(y_1_mat)\n",
        "           )\n",
        "plt.ylabel('Actual')\n",
        "plt.xlabel('Predicted')\n",
        "plt.show()\n",
        "\n",
        "print(metrics.classification_report(y_test_mat, y_1_mat, target_names=set(y_1_mat)))"
      ]
    },
    {
      "cell_type": "markdown",
      "metadata": {
        "id": "e97GJPJ0HxL9"
      },
      "source": [
        "#### Receiver Operating Characteristic (ROC)"
      ]
    },
    {
      "cell_type": "code",
      "execution_count": null,
      "metadata": {
        "id": "9eDXDC6NHxL9"
      },
      "outputs": [],
      "source": [
        "e_dataframe = pd.DataFrame(y_test)\n",
        "e_dataframe.replace('NO_APTO',1, inplace=True)\n",
        "e_dataframe.replace('APTO', 0,inplace=True)\n",
        "arr = e_dataframe.to_numpy()"
      ]
    },
    {
      "cell_type": "code",
      "execution_count": null,
      "metadata": {
        "id": "P8s_eoS_HxL9"
      },
      "outputs": [],
      "source": [
        "fig = plt.figure(figsize=(10,6))\n",
        "\n",
        "\n",
        "probs = model_reg_logistica.predict_proba(X_test)\n",
        "probs = probs[:, 1]\n",
        "auc = roc_auc_score(arr, probs*(-1))\n",
        "\n",
        "print('AUC: %.2f' % (1-auc))\n",
        "fpr, tpr, thresholds = roc_curve(arr, probs*(1))\n",
        "plot_roc_curve(fpr, tpr)"
      ]
    },
    {
      "cell_type": "markdown",
      "source": [
        "#### Precision Recall Curve"
      ],
      "metadata": {
        "id": "5ux04nW0Kzv8"
      }
    },
    {
      "cell_type": "code",
      "source": [
        "prec, recall, _ = precision_recall_curve(y_test, y_1)\n",
        "pr_display = PrecisionRecallDisplay(precision=prec, recall=recall).plot()"
      ],
      "metadata": {
        "id": "SHE1oemcKzv8"
      },
      "execution_count": null,
      "outputs": []
    },
    {
      "cell_type": "markdown",
      "source": [
        "### KMeansSMOTE"
      ],
      "metadata": {
        "id": "78cFW8kCOgOA"
      }
    },
    {
      "cell_type": "code",
      "source": [
        "#Se remueve la columna de 'salida' => \"RESULTADO\"\n",
        "banco_columns = list(muestra_banco.columns)\n",
        "banco_columns.remove('RESULTADO')\n",
        "\n",
        "X = muestra_banco[banco_columns]\n",
        "y = muestra_banco['RESULTADO']"
      ],
      "metadata": {
        "id": "Oyp9s9ftOgOA"
      },
      "execution_count": null,
      "outputs": []
    },
    {
      "cell_type": "code",
      "source": [
        "sm = KMeansSMOTE(kmeans_estimator=1, random_state=42)\n",
        "X_res, y_res = sm.fit_resample(X, y)\n",
        "print('Original dataset shape %s' % Counter(y))\n",
        "print('Resampled dataset shape %s' % Counter(y_res))"
      ],
      "metadata": {
        "id": "D0Pd5bkOOgOB"
      },
      "execution_count": null,
      "outputs": []
    },
    {
      "cell_type": "markdown",
      "source": [
        "####Busqueda de hiperparámetros "
      ],
      "metadata": {
        "id": "VfQsFE2HPvuQ"
      }
    },
    {
      "cell_type": "code",
      "source": [
        "banco_clientes_sinteticos = pd.concat([X_res, y_res], axis=1)\n",
        "banco_clientes_sinteticos"
      ],
      "metadata": {
        "id": "HgHs9tHZPvuQ"
      },
      "execution_count": null,
      "outputs": []
    },
    {
      "cell_type": "code",
      "source": [
        "banco_clientes_sinteticos.info()"
      ],
      "metadata": {
        "id": "xfuycHLfPvuQ"
      },
      "execution_count": null,
      "outputs": []
    },
    {
      "cell_type": "code",
      "source": [
        "#Se remueve la columna de 'salida' => \"RESULTADO\"\n",
        "banco_columns = list(muestra_banco.columns)\n",
        "banco_columns.remove('RESULTADO')\n",
        "\n",
        "X = banco_clientes_sinteticos[banco_columns]\n",
        "y = banco_clientes_sinteticos['RESULTADO']\n"
      ],
      "metadata": {
        "id": "IP8_5QhNPvuQ"
      },
      "execution_count": null,
      "outputs": []
    },
    {
      "cell_type": "code",
      "source": [
        "#Datos de entrenamiento y de prueba\n",
        "X_train, X_test, y_train, y_test = train_test_split(\n",
        "                                        X,\n",
        "                                        y.values.reshape(-1,1), \n",
        "                                        train_size   = 0.8,\n",
        "                                        random_state = 1234,\n",
        "                                        shuffle      = True\n",
        "                                    )\n"
      ],
      "metadata": {
        "id": "BRpVL2CRPvuQ"
      },
      "execution_count": null,
      "outputs": []
    },
    {
      "cell_type": "code",
      "source": [
        "scaler = MinMaxScaler()\n",
        "num_vars = banco_credit_num\n",
        "X_train[num_vars] = scaler.fit_transform(X_train[num_vars])\n",
        "X_test[num_vars] = scaler.fit_transform(X_test[num_vars])"
      ],
      "metadata": {
        "id": "JptvGKCyPvuR"
      },
      "execution_count": null,
      "outputs": []
    },
    {
      "cell_type": "code",
      "source": [
        "X_Completo = X\n",
        "y_Completo = y"
      ],
      "metadata": {
        "id": "HsAj8waIPvuR"
      },
      "execution_count": null,
      "outputs": []
    },
    {
      "cell_type": "code",
      "execution_count": null,
      "metadata": {
        "scrolled": true,
        "id": "tGSYBlUEPvuR"
      },
      "outputs": [],
      "source": [
        "logisticReg = LogisticRegression()\n",
        "\n",
        "parameters = {'C': [0.001, 0.1, 1, 10, 100, 1000],\n",
        "              'multi_class': ['ovr', 'auto', 'multinomial'], \n",
        "              'solver': ['liblinear', 'saga', 'lbfgs', 'newton-cg', 'sag'],\n",
        "              'class_weight': ['balanced', None]\n",
        "              } \n",
        "\n",
        "#grid_reg_log = GridSearchCV(logisticReg, param_grid=parameters, cv=10, verbose=3)\n",
        "\n",
        "#grid_reg_log_result = grid_reg_log.fit(X_Completo,y_Completo) \n",
        "\n",
        "#grid_reg_log_result"
      ]
    },
    {
      "cell_type": "markdown",
      "metadata": {
        "id": "LDwj4YqNOgOB"
      },
      "source": [
        "#### Creación del modelo Con KMeansSMOTE"
      ]
    },
    {
      "cell_type": "code",
      "execution_count": null,
      "metadata": {
        "id": "P2qhFF8oOgOB"
      },
      "outputs": [],
      "source": [
        "#best_params_reg_log = grid_reg_log_result.best_params_\n",
        "#print('Best Parameters : ', best_params_reg_log)"
      ]
    },
    {
      "cell_type": "code",
      "source": [
        "###################ELIMINAAAAAAAAAR\n",
        "best_params_reg_log = {'C': 10, 'class_weight': 'balanced', 'multi_class': 'multinomial', 'solver': 'newton-cg'}\n"
      ],
      "metadata": {
        "id": "ajaZVtC-QOBO"
      },
      "execution_count": null,
      "outputs": []
    },
    {
      "cell_type": "markdown",
      "source": [
        "Se entrena el modelo con el 100% de los datos sintéticos y se prueba con el 100% de los datos originales"
      ],
      "metadata": {
        "id": "wJXtbGQ3QalM"
      }
    },
    {
      "cell_type": "code",
      "source": [
        "X_train = X_res\n",
        "y_train = y_res\n",
        "\n",
        "X_test = muestra_banco[banco_columns]\n",
        "y_test = muestra_banco['RESULTADO']"
      ],
      "metadata": {
        "id": "y_5PyWaiQalM"
      },
      "execution_count": null,
      "outputs": []
    },
    {
      "cell_type": "code",
      "source": [
        "scaler = MinMaxScaler()\n",
        "num_vars = banco_credit_num\n",
        "X_train[num_vars] = scaler.fit_transform(X_train[num_vars])\n",
        "X_test[num_vars] = scaler.fit_transform(X_test[num_vars])"
      ],
      "metadata": {
        "id": "RSK-uqpQQalM"
      },
      "execution_count": null,
      "outputs": []
    },
    {
      "cell_type": "code",
      "source": [
        "model_reg_logistica = LogisticRegression(\n",
        "    C = best_params_reg_log[\"C\"],\n",
        "    class_weight = best_params_reg_log[\"class_weight\"], \n",
        "    multi_class = best_params_reg_log[\"multi_class\"], \n",
        "    solver = best_params_reg_log[\"solver\"],\n",
        "    random_state = 0)\n",
        "\n",
        "model_reg_logistica.fit(X_train, y_train)"
      ],
      "metadata": {
        "id": "AzzEQ9uTQalM"
      },
      "execution_count": null,
      "outputs": []
    },
    {
      "cell_type": "markdown",
      "metadata": {
        "id": "1hnfumR5OgOB"
      },
      "source": [
        "#### Accuracy"
      ]
    },
    {
      "cell_type": "code",
      "execution_count": null,
      "metadata": {
        "id": "2UZ4EpIGQprr"
      },
      "outputs": [],
      "source": [
        "y_1 = model_reg_logistica.predict(X_test)\n",
        "y_pred = model_reg_logistica.predict_proba(X_test)"
      ]
    },
    {
      "cell_type": "code",
      "execution_count": null,
      "metadata": {
        "id": "FBpxa4DMQprs"
      },
      "outputs": [],
      "source": [
        "print(\"===========Accuracy Logistic Regression ================\")\n",
        "print(metrics.accuracy_score(y_test, y_1))"
      ]
    },
    {
      "cell_type": "markdown",
      "source": [
        "#### Balanced accuracy score"
      ],
      "metadata": {
        "id": "hC3eepM2Q1c-"
      }
    },
    {
      "cell_type": "code",
      "source": [
        "y_test = y_test.replace({\"APTO\": 0, \"NO_APTO\": 1})\n",
        "\n",
        "y_1[y_1== 'APTO'] = 0\n",
        "y_1[y_1== 'NO_APTO'] = 1\n",
        "\n",
        "y_test = y_test.tolist()\n",
        "y_1 = y_1.tolist()\n",
        "\n",
        "print(\"===========Balanced Accuracy Score ================\")\n",
        "print(balanced_accuracy_score(y_test, y_1))\n"
      ],
      "metadata": {
        "id": "lr39-9vtQ1c_"
      },
      "execution_count": null,
      "outputs": []
    },
    {
      "cell_type": "markdown",
      "source": [
        "#### Pérdida de entropía cruzada (Log Loss)"
      ],
      "metadata": {
        "id": "qwNj1VqrRAPB"
      }
    },
    {
      "cell_type": "code",
      "source": [
        "y_test = np.array(y_test)\n",
        "log_loss(y_test, y_pred)"
      ],
      "metadata": {
        "id": "fsZz2T3pRAPB"
      },
      "execution_count": null,
      "outputs": []
    },
    {
      "cell_type": "markdown",
      "metadata": {
        "id": "_f60AHKMOgOC"
      },
      "source": [
        "#### Matriz de confusión"
      ]
    },
    {
      "cell_type": "code",
      "source": [
        "y_1_mat = ['APTO' if x==0 else 'NO_APTO' for x in y_1]\n",
        "y_test_mat = ['APTO' if x==0 else 'NO_APTO' for x in y_test]"
      ],
      "metadata": {
        "id": "DoCAAg7jRHE6"
      },
      "execution_count": null,
      "outputs": []
    },
    {
      "cell_type": "code",
      "execution_count": null,
      "metadata": {
        "id": "unsEanJhRHE6"
      },
      "outputs": [],
      "source": [
        "#Matriz de confusión\n",
        "conf_mat = confusion_matrix(y_test_mat, y_1_mat)\n",
        "conf_mat = np.round(((conf_mat/len(y_test_mat))*100),1)\n",
        "\n",
        "fig, ax = plt.subplots(figsize=(6,4))\n",
        "sns.heatmap(conf_mat\n",
        "            , annot=True\n",
        "            , fmt='.1f'\n",
        "            , xticklabels=set(y_1_mat)\n",
        "            , yticklabels=set(y_1_mat)\n",
        "           )\n",
        "plt.ylabel('Actual')\n",
        "plt.xlabel('Predicted')\n",
        "plt.show()\n",
        "\n",
        "print(metrics.classification_report(y_test_mat, y_1_mat, target_names=set(y_1_mat)))"
      ]
    },
    {
      "cell_type": "markdown",
      "metadata": {
        "id": "-xcxlSovOgOC"
      },
      "source": [
        "#### Receiver Operating Characteristic (ROC)"
      ]
    },
    {
      "cell_type": "code",
      "execution_count": null,
      "metadata": {
        "id": "3TST_dRvRT4q"
      },
      "outputs": [],
      "source": [
        "e_dataframe = pd.DataFrame(y_test)\n",
        "e_dataframe.replace('NO_APTO',1, inplace=True)\n",
        "e_dataframe.replace('APTO', 0,inplace=True)\n",
        "arr = e_dataframe.to_numpy()"
      ]
    },
    {
      "cell_type": "code",
      "execution_count": null,
      "metadata": {
        "id": "HxYcQrYaRT4q"
      },
      "outputs": [],
      "source": [
        "fig = plt.figure(figsize=(10,6))\n",
        "\n",
        "\n",
        "probs = model_reg_logistica.predict_proba(X_test)\n",
        "probs = probs[:, 1]\n",
        "auc = roc_auc_score(arr, probs*(-1))\n",
        "\n",
        "print('AUC: %.2f' % (1-auc))\n",
        "fpr, tpr, thresholds = roc_curve(arr, probs*(1))\n",
        "plot_roc_curve(fpr, tpr)"
      ]
    },
    {
      "cell_type": "markdown",
      "source": [
        "#### Precision Recall Curve"
      ],
      "metadata": {
        "id": "iqWcz2hOK2t1"
      }
    },
    {
      "cell_type": "code",
      "source": [
        "prec, recall, _ = precision_recall_curve(y_test, y_1)\n",
        "pr_display = PrecisionRecallDisplay(precision=prec, recall=recall).plot()"
      ],
      "metadata": {
        "id": "q2bGl3PPRamf"
      },
      "execution_count": null,
      "outputs": []
    },
    {
      "cell_type": "markdown",
      "source": [
        "### BorderlineSMOTE"
      ],
      "metadata": {
        "id": "gfVt0gm7JpEY"
      }
    },
    {
      "cell_type": "code",
      "source": [
        "#Se remueve la columna de 'salida' => \"RESULTADO\"\n",
        "banco_columns = list(muestra_banco.columns)\n",
        "banco_columns.remove('RESULTADO')\n",
        "\n",
        "X = muestra_banco[banco_columns]\n",
        "y = muestra_banco['RESULTADO']\n"
      ],
      "metadata": {
        "id": "gH4vX9nOJpEZ"
      },
      "execution_count": null,
      "outputs": []
    },
    {
      "cell_type": "code",
      "source": [
        "sm = BorderlineSMOTE(random_state=42)\n",
        "X_res, y_res = sm.fit_resample(X, y)\n",
        "print('Original dataset shape %s' % Counter(y))\n",
        "print('Resampled dataset shape %s' % Counter(y_res))"
      ],
      "metadata": {
        "id": "ixptIXEIJpEa"
      },
      "execution_count": null,
      "outputs": []
    },
    {
      "cell_type": "markdown",
      "source": [
        "####Busqueda de hiperparámetros "
      ],
      "metadata": {
        "id": "-2EyktzuRv0c"
      }
    },
    {
      "cell_type": "code",
      "source": [
        "banco_clientes_sinteticos = pd.concat([X_res, y_res], axis=1)\n",
        "banco_clientes_sinteticos"
      ],
      "metadata": {
        "id": "5yukrE4-Rv0c"
      },
      "execution_count": null,
      "outputs": []
    },
    {
      "cell_type": "code",
      "source": [
        "banco_clientes_sinteticos.info()"
      ],
      "metadata": {
        "id": "JT8718sfRv0c"
      },
      "execution_count": null,
      "outputs": []
    },
    {
      "cell_type": "code",
      "source": [
        "#Se remueve la columna de 'salida' => \"RESULTADO\"\n",
        "banco_columns = list(muestra_banco.columns)\n",
        "banco_columns.remove('RESULTADO')\n",
        "\n",
        "X = banco_clientes_sinteticos[banco_columns]\n",
        "y = banco_clientes_sinteticos['RESULTADO']\n"
      ],
      "metadata": {
        "id": "NribG-v3Rv0c"
      },
      "execution_count": null,
      "outputs": []
    },
    {
      "cell_type": "code",
      "source": [
        "#Datos de entrenamiento y de prueba\n",
        "X_train, X_test, y_train, y_test = train_test_split(\n",
        "                                        X,\n",
        "                                        y.values.reshape(-1,1), \n",
        "                                        train_size   = 0.8,\n",
        "                                        random_state = 1234,\n",
        "                                        shuffle      = True\n",
        "                                    )\n"
      ],
      "metadata": {
        "id": "u3Oi_NIcRv0d"
      },
      "execution_count": null,
      "outputs": []
    },
    {
      "cell_type": "code",
      "source": [
        "scaler = MinMaxScaler()\n",
        "num_vars = banco_credit_num\n",
        "X_train[num_vars] = scaler.fit_transform(X_train[num_vars])\n",
        "X_test[num_vars] = scaler.fit_transform(X_test[num_vars])"
      ],
      "metadata": {
        "id": "3vRJRLSnRv0d"
      },
      "execution_count": null,
      "outputs": []
    },
    {
      "cell_type": "code",
      "source": [
        "X_Completo = X\n",
        "y_Completo = y"
      ],
      "metadata": {
        "id": "zaxIfhPYRv0d"
      },
      "execution_count": null,
      "outputs": []
    },
    {
      "cell_type": "code",
      "execution_count": null,
      "metadata": {
        "scrolled": true,
        "id": "BJ71EwRKRv0d"
      },
      "outputs": [],
      "source": [
        "logisticReg = LogisticRegression()\n",
        "\n",
        "parameters = {'C': [0.001, 0.1, 1, 10, 100, 1000],\n",
        "              'multi_class': ['ovr', 'auto', 'multinomial'], \n",
        "              'solver': ['liblinear', 'saga', 'lbfgs', 'newton-cg', 'sag'],\n",
        "              'class_weight': ['balanced', None]\n",
        "              } \n",
        "\n",
        "#grid_reg_log = GridSearchCV(logisticReg, param_grid=parameters, cv=10, verbose=3)\n",
        "\n",
        "#grid_reg_log_result = grid_reg_log.fit(X_Completo,y_Completo) \n",
        "\n",
        "#grid_reg_log_result"
      ]
    },
    {
      "cell_type": "markdown",
      "metadata": {
        "id": "AMZMnKZyJpEb"
      },
      "source": [
        "#### Creación del modelo Con BorderlineSMOTE"
      ]
    },
    {
      "cell_type": "code",
      "execution_count": null,
      "metadata": {
        "id": "Bq8_Q_dnJpEc"
      },
      "outputs": [],
      "source": [
        "#best_params_reg_log = grid_reg_log_result.best_params_\n",
        "#print('Best Parameters : ', best_params_reg_log)"
      ]
    },
    {
      "cell_type": "code",
      "source": [
        "###################ELIMINAAAAAAAAAR\n",
        "best_params_reg_log = {'C': 100, 'class_weight': None, 'multi_class': 'ovr', 'solver': 'newton-cg'}\n"
      ],
      "metadata": {
        "id": "Rnh0JeaxSB9F"
      },
      "execution_count": null,
      "outputs": []
    },
    {
      "cell_type": "markdown",
      "source": [
        "Se entrena el modelo con el 100% de los datos sintéticos y se prueba con el 100% de los datos originales"
      ],
      "metadata": {
        "id": "NSZ_ZXeOSB9F"
      }
    },
    {
      "cell_type": "code",
      "source": [
        "X_train = X_res\n",
        "y_train = y_res\n",
        "\n",
        "X_test = muestra_banco[banco_columns]\n",
        "y_test = muestra_banco['RESULTADO']"
      ],
      "metadata": {
        "id": "4m2iJtqgSB9F"
      },
      "execution_count": null,
      "outputs": []
    },
    {
      "cell_type": "code",
      "source": [
        "scaler = MinMaxScaler()\n",
        "num_vars = banco_credit_num\n",
        "X_train[num_vars] = scaler.fit_transform(X_train[num_vars])\n",
        "X_test[num_vars] = scaler.fit_transform(X_test[num_vars])"
      ],
      "metadata": {
        "id": "u58rLHDqSB9F"
      },
      "execution_count": null,
      "outputs": []
    },
    {
      "cell_type": "code",
      "source": [
        "model_reg_logistica = LogisticRegression(\n",
        "    C = best_params_reg_log[\"C\"],\n",
        "    class_weight = best_params_reg_log[\"class_weight\"], \n",
        "    multi_class = best_params_reg_log[\"multi_class\"], \n",
        "    solver = best_params_reg_log[\"solver\"],\n",
        "    random_state = 0)\n",
        "\n",
        "model_reg_logistica.fit(X_train, y_train)"
      ],
      "metadata": {
        "id": "hMx3Of0ESB9F"
      },
      "execution_count": null,
      "outputs": []
    },
    {
      "cell_type": "markdown",
      "metadata": {
        "id": "_HbdYe-JJpEf"
      },
      "source": [
        "#### Accuracy"
      ]
    },
    {
      "cell_type": "code",
      "execution_count": null,
      "metadata": {
        "id": "BOcpfmsgSKeI"
      },
      "outputs": [],
      "source": [
        "y_1 = model_reg_logistica.predict(X_test)\n",
        "y_pred = model_reg_logistica.predict_proba(X_test)"
      ]
    },
    {
      "cell_type": "code",
      "execution_count": null,
      "metadata": {
        "id": "RsYiZ85USKeI"
      },
      "outputs": [],
      "source": [
        "print(\"===========Accuracy Logistic Regression ================\")\n",
        "print(metrics.accuracy_score(y_test, y_1))"
      ]
    },
    {
      "cell_type": "markdown",
      "source": [
        "#### Balanced accuracy score"
      ],
      "metadata": {
        "id": "i3BEC9ovSTkU"
      }
    },
    {
      "cell_type": "code",
      "source": [
        "y_test = y_test.replace({\"APTO\": 0, \"NO_APTO\": 1})\n",
        "\n",
        "y_1[y_1== 'APTO'] = 0\n",
        "y_1[y_1== 'NO_APTO'] = 1\n",
        "\n",
        "y_test = y_test.tolist()\n",
        "y_1 = y_1.tolist()\n",
        "\n",
        "print(\"===========Balanced Accuracy Score ================\")\n",
        "print(balanced_accuracy_score(y_test, y_1))\n"
      ],
      "metadata": {
        "id": "nQIHtCVoSTkV"
      },
      "execution_count": null,
      "outputs": []
    },
    {
      "cell_type": "markdown",
      "source": [
        "#### Pérdida de entropía cruzada (Log Loss)"
      ],
      "metadata": {
        "id": "5UBjQyMWSeQ5"
      }
    },
    {
      "cell_type": "code",
      "source": [
        "y_test = np.array(y_test)\n",
        "log_loss(y_test, y_pred)"
      ],
      "metadata": {
        "id": "UFJeH3hcSeQ6"
      },
      "execution_count": null,
      "outputs": []
    },
    {
      "cell_type": "markdown",
      "metadata": {
        "id": "RPBUTVdPJpEg"
      },
      "source": [
        "#### Matriz de confusión"
      ]
    },
    {
      "cell_type": "code",
      "source": [
        "y_1_mat = ['APTO' if x==0 else 'NO_APTO' for x in y_1]\n",
        "y_test_mat = ['APTO' if x==0 else 'NO_APTO' for x in y_test]"
      ],
      "metadata": {
        "id": "iS0NTzQCSqgb"
      },
      "execution_count": null,
      "outputs": []
    },
    {
      "cell_type": "code",
      "execution_count": null,
      "metadata": {
        "id": "hxh66aZvSqgb"
      },
      "outputs": [],
      "source": [
        "#Matriz de confusión\n",
        "conf_mat = confusion_matrix(y_test_mat, y_1_mat)\n",
        "conf_mat = np.round(((conf_mat/len(y_test_mat))*100),1)\n",
        "\n",
        "fig, ax = plt.subplots(figsize=(6,4))\n",
        "sns.heatmap(conf_mat\n",
        "            , annot=True\n",
        "            , fmt='.1f'\n",
        "            , xticklabels=set(y_1_mat)\n",
        "            , yticklabels=set(y_1_mat)\n",
        "           )\n",
        "plt.ylabel('Actual')\n",
        "plt.xlabel('Predicted')\n",
        "plt.show()\n",
        "\n",
        "print(metrics.classification_report(y_test_mat, y_1_mat, target_names=set(y_1_mat)))"
      ]
    },
    {
      "cell_type": "markdown",
      "metadata": {
        "id": "anhU5zEyJpEh"
      },
      "source": [
        "#### Receiver Operating Characteristic (ROC)"
      ]
    },
    {
      "cell_type": "code",
      "execution_count": null,
      "metadata": {
        "id": "eiDCTSx-S43a"
      },
      "outputs": [],
      "source": [
        "e_dataframe = pd.DataFrame(y_test)\n",
        "e_dataframe.replace('NO_APTO',1, inplace=True)\n",
        "e_dataframe.replace('APTO', 0,inplace=True)\n",
        "arr = e_dataframe.to_numpy()"
      ]
    },
    {
      "cell_type": "code",
      "execution_count": null,
      "metadata": {
        "id": "Zkz7ReU7S43b"
      },
      "outputs": [],
      "source": [
        "fig = plt.figure(figsize=(10,6))\n",
        "\n",
        "\n",
        "probs = model_reg_logistica.predict_proba(X_test)\n",
        "probs = probs[:, 1]\n",
        "auc = roc_auc_score(arr, probs*(-1))\n",
        "\n",
        "print('AUC: %.2f' % (1-auc))\n",
        "fpr, tpr, thresholds = roc_curve(arr, probs*(1))\n",
        "plot_roc_curve(fpr, tpr)"
      ]
    },
    {
      "cell_type": "markdown",
      "source": [
        "#### Precision Recall Curve"
      ],
      "metadata": {
        "id": "8e3OFTGJK5Lc"
      }
    },
    {
      "cell_type": "code",
      "source": [
        "prec, recall, _ = precision_recall_curve(y_test, y_1)\n",
        "pr_display = PrecisionRecallDisplay(precision=prec, recall=recall).plot()"
      ],
      "metadata": {
        "id": "gF3U5AvFK5Ld"
      },
      "execution_count": null,
      "outputs": []
    },
    {
      "cell_type": "markdown",
      "source": [
        "### SMOTENC"
      ],
      "metadata": {
        "id": "0zVBaikgEr-J"
      }
    },
    {
      "cell_type": "code",
      "source": [
        "#Se remueve la columna de 'salida' => \"RESULTADO\"\n",
        "banco_columns = list(muestra_banco.columns)\n",
        "banco_columns.remove('RESULTADO')\n",
        "\n",
        "X = muestra_banco[banco_columns]\n",
        "y = muestra_banco['RESULTADO']"
      ],
      "metadata": {
        "id": "nKyZPiOlE9CD"
      },
      "execution_count": null,
      "outputs": []
    },
    {
      "cell_type": "code",
      "source": [
        "sm = SMOTENC(random_state=42, categorical_features=[0])\n",
        "X_res, y_res = sm.fit_resample(X, y)\n",
        "print('Original dataset shape %s' % Counter(y))\n",
        "print('Resampled dataset shape %s' % Counter(y_res))"
      ],
      "metadata": {
        "id": "VRQBZWJnE9CE"
      },
      "execution_count": null,
      "outputs": []
    },
    {
      "cell_type": "markdown",
      "source": [
        "####Busqueda de hiperparámetros "
      ],
      "metadata": {
        "id": "eTmUNoE2TNfu"
      }
    },
    {
      "cell_type": "code",
      "source": [
        "banco_clientes_sinteticos = pd.concat([X_res, y_res], axis=1)\n",
        "banco_clientes_sinteticos"
      ],
      "metadata": {
        "id": "94tFYxeTTNfu"
      },
      "execution_count": null,
      "outputs": []
    },
    {
      "cell_type": "code",
      "source": [
        "banco_clientes_sinteticos.info()"
      ],
      "metadata": {
        "id": "uO474RsjTNfu"
      },
      "execution_count": null,
      "outputs": []
    },
    {
      "cell_type": "code",
      "source": [
        "#Se remueve la columna de 'salida' => \"RESULTADO\"\n",
        "banco_columns = list(muestra_banco.columns)\n",
        "banco_columns.remove('RESULTADO')\n",
        "\n",
        "X = banco_clientes_sinteticos[banco_columns]\n",
        "y = banco_clientes_sinteticos['RESULTADO']\n"
      ],
      "metadata": {
        "id": "d-1N1jrRTNfu"
      },
      "execution_count": null,
      "outputs": []
    },
    {
      "cell_type": "code",
      "source": [
        "#Datos de entrenamiento y de prueba\n",
        "X_train, X_test, y_train, y_test = train_test_split(\n",
        "                                        X,\n",
        "                                        y.values.reshape(-1,1), \n",
        "                                        train_size   = 0.8,\n",
        "                                        random_state = 1234,\n",
        "                                        shuffle      = True\n",
        "                                    )\n"
      ],
      "metadata": {
        "id": "md2beHv1TNfu"
      },
      "execution_count": null,
      "outputs": []
    },
    {
      "cell_type": "code",
      "source": [
        "scaler = MinMaxScaler()\n",
        "num_vars = banco_credit_num\n",
        "X_train[num_vars] = scaler.fit_transform(X_train[num_vars])\n",
        "X_test[num_vars] = scaler.fit_transform(X_test[num_vars])"
      ],
      "metadata": {
        "id": "kTHspAhUTNfu"
      },
      "execution_count": null,
      "outputs": []
    },
    {
      "cell_type": "code",
      "source": [
        "X_Completo = X\n",
        "y_Completo = y"
      ],
      "metadata": {
        "id": "yHjv4HZpTNfu"
      },
      "execution_count": null,
      "outputs": []
    },
    {
      "cell_type": "code",
      "execution_count": null,
      "metadata": {
        "scrolled": true,
        "id": "Fgn2i3fQTNfu"
      },
      "outputs": [],
      "source": [
        "logisticReg = LogisticRegression()\n",
        "\n",
        "parameters = {'C': [0.001, 0.1, 1, 10, 100, 1000],\n",
        "              'multi_class': ['ovr', 'auto', 'multinomial'], \n",
        "              'solver': ['liblinear', 'saga', 'lbfgs', 'newton-cg', 'sag'],\n",
        "              'class_weight': ['balanced', None]\n",
        "              } \n",
        "\n",
        "#grid_reg_log = GridSearchCV(logisticReg, param_grid=parameters, cv=10, verbose=3)\n",
        "\n",
        "#grid_reg_log_result = grid_reg_log.fit(X_Completo,y_Completo) \n",
        "\n",
        "#grid_reg_log_result"
      ]
    },
    {
      "cell_type": "markdown",
      "metadata": {
        "id": "AgPxZ9jOE9CF"
      },
      "source": [
        "#### Creación del modelo Con SMOTENC"
      ]
    },
    {
      "cell_type": "code",
      "execution_count": null,
      "metadata": {
        "id": "wDMpZPC0E9CG"
      },
      "outputs": [],
      "source": [
        "#best_params_reg_log = grid_reg_log_result.best_params_\n",
        "#print('Best Parameters : ', best_params_reg_log)"
      ]
    },
    {
      "cell_type": "code",
      "source": [
        "###################ELIMINAAAAAAAAAR\n",
        "best_params_reg_log = {'C': 1, 'class_weight': None, 'multi_class': 'ovr', 'solver': 'newton-cg'}"
      ],
      "metadata": {
        "id": "_COQvykoTchV"
      },
      "execution_count": null,
      "outputs": []
    },
    {
      "cell_type": "markdown",
      "source": [
        "Se entrena el modelo con el 100% de los datos sintéticos y se prueba con el 100% de los datos originales"
      ],
      "metadata": {
        "id": "m036tz7NTchV"
      }
    },
    {
      "cell_type": "code",
      "source": [
        "X_train = X_res\n",
        "y_train = y_res\n",
        "\n",
        "X_test = muestra_banco[banco_columns]\n",
        "y_test = muestra_banco['RESULTADO']"
      ],
      "metadata": {
        "id": "-nddZMR8TchV"
      },
      "execution_count": null,
      "outputs": []
    },
    {
      "cell_type": "code",
      "source": [
        "scaler = MinMaxScaler()\n",
        "num_vars = banco_credit_num\n",
        "X_train[num_vars] = scaler.fit_transform(X_train[num_vars])\n",
        "X_test[num_vars] = scaler.fit_transform(X_test[num_vars])"
      ],
      "metadata": {
        "id": "BaKEh4raTchV"
      },
      "execution_count": null,
      "outputs": []
    },
    {
      "cell_type": "code",
      "source": [
        "model_reg_logistica = LogisticRegression(\n",
        "    C = best_params_reg_log[\"C\"],\n",
        "    class_weight = best_params_reg_log[\"class_weight\"], \n",
        "    multi_class = best_params_reg_log[\"multi_class\"], \n",
        "    solver = best_params_reg_log[\"solver\"],\n",
        "    random_state = 0)\n",
        "\n",
        "model_reg_logistica.fit(X_train, y_train)"
      ],
      "metadata": {
        "id": "U4q6JfgYTchV"
      },
      "execution_count": null,
      "outputs": []
    },
    {
      "cell_type": "markdown",
      "metadata": {
        "id": "VAslE3o0E9CI"
      },
      "source": [
        "#### Accuracy"
      ]
    },
    {
      "cell_type": "code",
      "execution_count": null,
      "metadata": {
        "id": "1s6eyylGT1Et"
      },
      "outputs": [],
      "source": [
        "y_1 = model_reg_logistica.predict(X_test)\n",
        "y_pred = model_reg_logistica.predict_proba(X_test)"
      ]
    },
    {
      "cell_type": "code",
      "execution_count": null,
      "metadata": {
        "id": "q8N5nRW9T1Eu"
      },
      "outputs": [],
      "source": [
        "print(\"===========Accuracy Logistic Regression ================\")\n",
        "print(metrics.accuracy_score(y_test, y_1))"
      ]
    },
    {
      "cell_type": "markdown",
      "source": [
        "#### Balanced accuracy score"
      ],
      "metadata": {
        "id": "EtsCQ7spUDEd"
      }
    },
    {
      "cell_type": "code",
      "source": [
        "y_test = y_test.replace({\"APTO\": 0, \"NO_APTO\": 1})\n",
        "\n",
        "y_1[y_1== 'APTO'] = 0\n",
        "y_1[y_1== 'NO_APTO'] = 1\n",
        "\n",
        "y_test = y_test.tolist()\n",
        "y_1 = y_1.tolist()\n",
        "\n",
        "print(\"===========Balanced Accuracy Score ================\")\n",
        "print(balanced_accuracy_score(y_test, y_1))\n"
      ],
      "metadata": {
        "id": "qabpkAyOUDEd"
      },
      "execution_count": null,
      "outputs": []
    },
    {
      "cell_type": "markdown",
      "source": [
        "#### Pérdida de entropía cruzada (Log Loss)"
      ],
      "metadata": {
        "id": "yXqSHPNiUDEd"
      }
    },
    {
      "cell_type": "code",
      "source": [
        "y_test = np.array(y_test)\n",
        "log_loss(y_test, y_pred)"
      ],
      "metadata": {
        "id": "K2kfQTR7UDEe"
      },
      "execution_count": null,
      "outputs": []
    },
    {
      "cell_type": "markdown",
      "metadata": {
        "id": "YSQTb_PoE9CJ"
      },
      "source": [
        "#### Matriz de confusión"
      ]
    },
    {
      "cell_type": "code",
      "source": [
        "y_1_mat = ['APTO' if x==0 else 'NO_APTO' for x in y_1]\n",
        "y_test_mat = ['APTO' if x==0 else 'NO_APTO' for x in y_test]"
      ],
      "metadata": {
        "id": "90CXlsb4UM4Y"
      },
      "execution_count": null,
      "outputs": []
    },
    {
      "cell_type": "code",
      "execution_count": null,
      "metadata": {
        "id": "nUPq_LV2UM4Y"
      },
      "outputs": [],
      "source": [
        "#Matriz de confusión\n",
        "conf_mat = confusion_matrix(y_test_mat, y_1_mat)\n",
        "conf_mat = np.round(((conf_mat/len(y_test_mat))*100),1)\n",
        "\n",
        "fig, ax = plt.subplots(figsize=(6,4))\n",
        "sns.heatmap(conf_mat\n",
        "            , annot=True\n",
        "            , fmt='.1f'\n",
        "            , xticklabels=set(y_1_mat)\n",
        "            , yticklabels=set(y_1_mat)\n",
        "           )\n",
        "plt.ylabel('Actual')\n",
        "plt.xlabel('Predicted')\n",
        "plt.show()\n",
        "\n",
        "print(metrics.classification_report(y_test_mat, y_1_mat, target_names=set(y_1_mat)))"
      ]
    },
    {
      "cell_type": "markdown",
      "metadata": {
        "id": "I5VfEDsDE9CK"
      },
      "source": [
        "#### Receiver Operating Characteristic (ROC)"
      ]
    },
    {
      "cell_type": "code",
      "execution_count": null,
      "metadata": {
        "id": "lKiXL9Q5UUoH"
      },
      "outputs": [],
      "source": [
        "e_dataframe = pd.DataFrame(y_test)\n",
        "e_dataframe.replace('NO_APTO',1, inplace=True)\n",
        "e_dataframe.replace('APTO', 0,inplace=True)\n",
        "arr = e_dataframe.to_numpy()"
      ]
    },
    {
      "cell_type": "code",
      "execution_count": null,
      "metadata": {
        "id": "7al_kEaQUUoH"
      },
      "outputs": [],
      "source": [
        "fig = plt.figure(figsize=(10,6))\n",
        "\n",
        "\n",
        "probs = model_reg_logistica.predict_proba(X_test)\n",
        "probs = probs[:, 1]\n",
        "auc = roc_auc_score(arr, probs*(-1))\n",
        "\n",
        "print('AUC: %.2f' % (1-auc))\n",
        "fpr, tpr, thresholds = roc_curve(arr, probs*(1))\n",
        "plot_roc_curve(fpr, tpr)"
      ]
    },
    {
      "cell_type": "markdown",
      "source": [
        "#### Precision Recall Curve"
      ],
      "metadata": {
        "id": "ovN2_-B_K7e7"
      }
    },
    {
      "cell_type": "code",
      "source": [
        "prec, recall, _ = precision_recall_curve(y_test, y_1)\n",
        "pr_display = PrecisionRecallDisplay(precision=prec, recall=recall).plot()"
      ],
      "metadata": {
        "id": "8gGCY8dvK7e7"
      },
      "execution_count": null,
      "outputs": []
    },
    {
      "cell_type": "markdown",
      "source": [
        "### SMOTE"
      ],
      "metadata": {
        "id": "4itOyY5C28Q8"
      }
    },
    {
      "cell_type": "code",
      "source": [
        "#Se remueve la columna de 'salida' => \"RESULTADO\"\n",
        "banco_columns = list(muestra_banco.columns)\n",
        "banco_columns.remove('RESULTADO')\n",
        "\n",
        "X = muestra_banco[banco_columns]\n",
        "y = muestra_banco['RESULTADO']"
      ],
      "metadata": {
        "id": "ulqappB24t6Y"
      },
      "execution_count": null,
      "outputs": []
    },
    {
      "cell_type": "code",
      "source": [
        "sm = SMOTE(random_state=42)\n",
        "X_res, y_res = sm.fit_resample(X, y)\n",
        "print('Original dataset shape %s' % Counter(y))\n",
        "print('Resampled dataset shape %s' % Counter(y_res))"
      ],
      "metadata": {
        "id": "e3gYQJpcfus_"
      },
      "execution_count": null,
      "outputs": []
    },
    {
      "cell_type": "markdown",
      "source": [
        "####Busqueda de hiperparámetros "
      ],
      "metadata": {
        "id": "o1Sod9IkUq2o"
      }
    },
    {
      "cell_type": "code",
      "source": [
        "banco_clientes_sinteticos = pd.concat([X_res, y_res], axis=1)\n",
        "banco_clientes_sinteticos"
      ],
      "metadata": {
        "id": "uKSm-VOsUq2o"
      },
      "execution_count": null,
      "outputs": []
    },
    {
      "cell_type": "code",
      "source": [
        "banco_clientes_sinteticos.info()"
      ],
      "metadata": {
        "id": "479k9fWbUq2o"
      },
      "execution_count": null,
      "outputs": []
    },
    {
      "cell_type": "code",
      "source": [
        "#Se remueve la columna de 'salida' => \"RESULTADO\"\n",
        "banco_columns = list(muestra_banco.columns)\n",
        "banco_columns.remove('RESULTADO')\n",
        "\n",
        "X = banco_clientes_sinteticos[banco_columns]\n",
        "y = banco_clientes_sinteticos['RESULTADO']\n"
      ],
      "metadata": {
        "id": "p13KG57lUq2p"
      },
      "execution_count": null,
      "outputs": []
    },
    {
      "cell_type": "code",
      "source": [
        "#Datos de entrenamiento y de prueba\n",
        "X_train, X_test, y_train, y_test = train_test_split(\n",
        "                                        X,\n",
        "                                        y.values.reshape(-1,1), \n",
        "                                        train_size   = 0.8,\n",
        "                                        random_state = 1234,\n",
        "                                        shuffle      = True\n",
        "                                    )\n"
      ],
      "metadata": {
        "id": "phzvoei7Uq2p"
      },
      "execution_count": null,
      "outputs": []
    },
    {
      "cell_type": "code",
      "source": [
        "scaler = MinMaxScaler()\n",
        "num_vars = banco_credit_num\n",
        "X_train[num_vars] = scaler.fit_transform(X_train[num_vars])\n",
        "X_test[num_vars] = scaler.fit_transform(X_test[num_vars])"
      ],
      "metadata": {
        "id": "W4_HrEV7Uq2p"
      },
      "execution_count": null,
      "outputs": []
    },
    {
      "cell_type": "code",
      "source": [
        "X_Completo = X\n",
        "y_Completo = y"
      ],
      "metadata": {
        "id": "jsv2X1m6Uq2p"
      },
      "execution_count": null,
      "outputs": []
    },
    {
      "cell_type": "code",
      "execution_count": null,
      "metadata": {
        "scrolled": true,
        "id": "eYXFPiDOUq2p"
      },
      "outputs": [],
      "source": [
        "logisticReg = LogisticRegression()\n",
        "\n",
        "parameters = {'C': [0.001, 0.1, 1, 10, 100, 1000],\n",
        "              'multi_class': ['ovr', 'auto', 'multinomial'], \n",
        "              'solver': ['liblinear', 'saga', 'lbfgs', 'newton-cg', 'sag'],\n",
        "              'class_weight': ['balanced', None]\n",
        "              } \n",
        "\n",
        "#grid_reg_log = GridSearchCV(logisticReg, param_grid=parameters, cv=10, verbose=3)\n",
        "\n",
        "#grid_reg_log_result = grid_reg_log.fit(X_Completo,y_Completo) \n",
        "\n",
        "#grid_reg_log_result"
      ]
    },
    {
      "cell_type": "markdown",
      "metadata": {
        "id": "KK-wJd5E6xOc"
      },
      "source": [
        "#### Creación del modelo Con SMOTE"
      ]
    },
    {
      "cell_type": "code",
      "execution_count": null,
      "metadata": {
        "id": "uRakTSSU6xOd"
      },
      "outputs": [],
      "source": [
        "best_params_reg_log = grid_reg_log_result.best_params_\n",
        "print('Best Parameters : ', best_params_reg_log)"
      ]
    },
    {
      "cell_type": "code",
      "source": [
        "###################ELIMINAAAAAAAAAR\n",
        "#best_params_reg_log = {'C': 1000, 'class_weight': None, 'multi_class': 'multinomial', 'solver': 'newton-cg'}"
      ],
      "metadata": {
        "id": "XweTBXV9U3Kk"
      },
      "execution_count": null,
      "outputs": []
    },
    {
      "cell_type": "markdown",
      "source": [
        "Se entrena el modelo con el 100% de los datos sintéticos y se prueba con el 100% de los datos originales"
      ],
      "metadata": {
        "id": "eutwrZq-U3Kk"
      }
    },
    {
      "cell_type": "code",
      "source": [
        "X_train = X_res\n",
        "y_train = y_res\n",
        "\n",
        "X_test = muestra_banco[banco_columns]\n",
        "y_test = muestra_banco['RESULTADO']"
      ],
      "metadata": {
        "id": "-3GQX4zgU3Kk"
      },
      "execution_count": null,
      "outputs": []
    },
    {
      "cell_type": "code",
      "source": [
        "scaler = MinMaxScaler()\n",
        "num_vars = banco_credit_num\n",
        "X_train[num_vars] = scaler.fit_transform(X_train[num_vars])\n",
        "X_test[num_vars] = scaler.fit_transform(X_test[num_vars])"
      ],
      "metadata": {
        "id": "k8kXNd38U3Kk"
      },
      "execution_count": null,
      "outputs": []
    },
    {
      "cell_type": "code",
      "source": [
        "model_reg_logistica = LogisticRegression(\n",
        "    C = best_params_reg_log[\"C\"],\n",
        "    class_weight = best_params_reg_log[\"class_weight\"], \n",
        "    multi_class = best_params_reg_log[\"multi_class\"], \n",
        "    solver = best_params_reg_log[\"solver\"],\n",
        "    random_state = 0)\n",
        "\n",
        "model_reg_logistica.fit(X_train, y_train)"
      ],
      "metadata": {
        "id": "evNp3cZaU3Kk"
      },
      "execution_count": null,
      "outputs": []
    },
    {
      "cell_type": "markdown",
      "metadata": {
        "id": "yCqMlkNW6xOh"
      },
      "source": [
        "#### Accuracy"
      ]
    },
    {
      "cell_type": "code",
      "execution_count": null,
      "metadata": {
        "id": "FbtkCdCaU9xw"
      },
      "outputs": [],
      "source": [
        "y_1 = model_reg_logistica.predict(X_test)\n",
        "y_pred = model_reg_logistica.predict_proba(X_test)"
      ]
    },
    {
      "cell_type": "code",
      "execution_count": null,
      "metadata": {
        "id": "FpV2pasfU9xx"
      },
      "outputs": [],
      "source": [
        "print(\"===========Accuracy Logistic Regression ================\")\n",
        "print(metrics.accuracy_score(y_test, y_1))"
      ]
    },
    {
      "cell_type": "markdown",
      "source": [
        "#### Balanced accuracy score"
      ],
      "metadata": {
        "id": "zjniF2c0VEXN"
      }
    },
    {
      "cell_type": "code",
      "source": [
        "y_test = y_test.replace({\"APTO\": 0, \"NO_APTO\": 1})\n",
        "\n",
        "y_1[y_1== 'APTO'] = 0\n",
        "y_1[y_1== 'NO_APTO'] = 1\n",
        "\n",
        "y_test = y_test.tolist()\n",
        "y_1 = y_1.tolist()\n",
        "\n",
        "print(\"===========Balanced Accuracy Score ================\")\n",
        "print(balanced_accuracy_score(y_test, y_1))\n"
      ],
      "metadata": {
        "id": "uLGNqNJQVEXO"
      },
      "execution_count": null,
      "outputs": []
    },
    {
      "cell_type": "markdown",
      "source": [
        "#### Pérdida de entropía cruzada (Log Loss)"
      ],
      "metadata": {
        "id": "NzzwejEWVEXO"
      }
    },
    {
      "cell_type": "code",
      "source": [
        "y_test = np.array(y_test)\n",
        "log_loss(y_test, y_pred)"
      ],
      "metadata": {
        "id": "AseLRAYbVEXO"
      },
      "execution_count": null,
      "outputs": []
    },
    {
      "cell_type": "markdown",
      "metadata": {
        "id": "U105cZMb6xOj"
      },
      "source": [
        "#### Matriz de confusión"
      ]
    },
    {
      "cell_type": "code",
      "source": [
        "y_1_mat = ['APTO' if x==0 else 'NO_APTO' for x in y_1]\n",
        "y_test_mat = ['APTO' if x==0 else 'NO_APTO' for x in y_test]"
      ],
      "metadata": {
        "id": "Is6CTHtaVPej"
      },
      "execution_count": null,
      "outputs": []
    },
    {
      "cell_type": "code",
      "execution_count": null,
      "metadata": {
        "id": "feWRiSRJVPej"
      },
      "outputs": [],
      "source": [
        "#Matriz de confusión\n",
        "conf_mat = confusion_matrix(y_test_mat, y_1_mat)\n",
        "conf_mat = np.round(((conf_mat/len(y_test_mat))*100),1)\n",
        "\n",
        "fig, ax = plt.subplots(figsize=(6,4))\n",
        "sns.heatmap(conf_mat\n",
        "            , annot=True\n",
        "            , fmt='.1f'\n",
        "            , xticklabels=set(y_1_mat)\n",
        "            , yticklabels=set(y_1_mat)\n",
        "           )\n",
        "plt.ylabel('Actual')\n",
        "plt.xlabel('Predicted')\n",
        "plt.show()\n",
        "\n",
        "print(metrics.classification_report(y_test_mat, y_1_mat, target_names=set(y_1_mat)))"
      ]
    },
    {
      "cell_type": "markdown",
      "metadata": {
        "id": "VU4U75nI6xOk"
      },
      "source": [
        "#### Receiver Operating Characteristic (ROC)"
      ]
    },
    {
      "cell_type": "code",
      "execution_count": null,
      "metadata": {
        "id": "L3JBCLZf6xOk"
      },
      "outputs": [],
      "source": [
        "e_dataframe = pd.DataFrame(y_test)\n",
        "e_dataframe.replace('NO_APTO',1, inplace=True)\n",
        "e_dataframe.replace('APTO', 0,inplace=True)\n",
        "arr = e_dataframe.to_numpy()"
      ]
    },
    {
      "cell_type": "code",
      "execution_count": null,
      "metadata": {
        "id": "EBGrhED56xOl"
      },
      "outputs": [],
      "source": [
        "fig = plt.figure(figsize=(10,6))\n",
        "\n",
        "\n",
        "probs = model_reg_logistica.predict_proba(X_test)\n",
        "probs = probs[:, 1]\n",
        "auc = roc_auc_score(arr, probs*(-1))\n",
        "\n",
        "print('AUC: %.2f' % (1-auc))\n",
        "fpr, tpr, thresholds = roc_curve(arr, probs*(1))\n",
        "plot_roc_curve(fpr, tpr)"
      ]
    },
    {
      "cell_type": "markdown",
      "source": [
        "#### Precision Recall Curve"
      ],
      "metadata": {
        "id": "Y7wr-OInLBTP"
      }
    },
    {
      "cell_type": "code",
      "source": [
        "prec, recall, _ = precision_recall_curve(y_test, y_1)\n",
        "pr_display = PrecisionRecallDisplay(precision=prec, recall=recall).plot()"
      ],
      "metadata": {
        "id": "xvvhCmYTLBTP"
      },
      "execution_count": null,
      "outputs": []
    },
    {
      "cell_type": "markdown",
      "source": [
        "#Referencias"
      ],
      "metadata": {
        "id": "9BMwLT4FCfPP"
      }
    },
    {
      "cell_type": "markdown",
      "source": [
        "\n",
        "*   Credit Card Approval Prediction. (2021). https://www.kaggle.com/datasets/rikdifos/credit-card-approval-prediction?select=application_record.csv\n",
        "*   The Complement Naive Bayes classifier described in Rennie et al. (2003). https://scikit-learn.org/stable/modules/generated/sklearn.naive_bayes.ComplementNB.html#sklearn.naive_bayes.ComplementNB\n",
        "*   EDA & Vintage Analysis. (2021). https://www.kaggle.com/code/rikdifos/eda-vintage-analysis/notebook\n",
        "*   CREDIT RISK: VINTAGE ANALYSIS. (2022). https://www.listendata.com/2019/09/credit-risk-vintage-analysis.html\n",
        "*   Credit Card Approval Prediction Using ML. (2020). https://www.kaggle.com/code/rikdifos/credit-card-approval-prediction-using-ml/notebook\n",
        "* The Potential of cohort Analysis for Vintage Analysis An Expliration. (2012) http://essay.utwente.nl/61383/1/MSc_M_Bosman.pdf\n",
        "\n"
      ],
      "metadata": {
        "id": "hzFyTMAeB2jI"
      }
    }
  ]
}